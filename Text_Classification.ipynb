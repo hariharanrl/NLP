{
  "nbformat": 4,
  "nbformat_minor": 0,
  "metadata": {
    "kernelspec": {
      "display_name": "Python 3",
      "language": "python",
      "name": "python3"
    },
    "language_info": {
      "codemirror_mode": {
        "name": "ipython",
        "version": 3
      },
      "file_extension": ".py",
      "mimetype": "text/x-python",
      "name": "python",
      "nbconvert_exporter": "python",
      "pygments_lexer": "ipython3",
      "version": "3.6.2"
    },
    "colab": {
      "name": "03-Text-Classification-Assessment.ipynb",
      "provenance": [],
      "include_colab_link": true
    }
  },
  "cells": [
    {
      "cell_type": "markdown",
      "metadata": {
        "id": "view-in-github",
        "colab_type": "text"
      },
      "source": [
        "<a href=\"https://colab.research.google.com/github/hariharanrl/NLP/blob/master/Text_Classification.ipynb\" target=\"_parent\"><img src=\"https://colab.research.google.com/assets/colab-badge.svg\" alt=\"Open In Colab\"/></a>"
      ]
    },
    {
      "cell_type": "markdown",
      "metadata": {
        "collapsed": true,
        "id": "3dzbmBUDCMZ0",
        "colab_type": "text"
      },
      "source": [
        "___\n",
        "\n",
        "<a href='http://www.pieriandata.com'> <img src='../Pierian_Data_Logo.png' /></a>\n",
        "___"
      ]
    },
    {
      "cell_type": "markdown",
      "metadata": {
        "id": "ucSmyHkbCMZ6",
        "colab_type": "text"
      },
      "source": [
        "# Text Classification Assessment\n",
        "This assessment is very much like the Text Classification Project we just completed, and the dataset is very similar.\n",
        "\n",
        "The **moviereviews2.tsv** dataset contains the text of 6000 movie reviews. 3000 are positive, 3000 are negative, and the text has been preprocessed as a tab-delimited file. As before, labels are given as `pos` and `neg`.\n",
        "\n",
        "We've included 20 reviews that contain either `NaN` data, or have strings made up of whitespace.\n",
        "\n",
        "For more information on this dataset visit http://ai.stanford.edu/~amaas/data/sentiment/"
      ]
    },
    {
      "cell_type": "markdown",
      "metadata": {
        "id": "goivTtmUCMaB",
        "colab_type": "text"
      },
      "source": [
        "### Task #1: Perform imports and load the dataset into a pandas DataFrame\n",
        "For this exercise you can load the dataset from `'../TextFiles/moviereviews2.tsv'`."
      ]
    },
    {
      "cell_type": "code",
      "metadata": {
        "id": "v1Uqmpe2EaJo",
        "colab_type": "code",
        "colab": {}
      },
      "source": [
        "from google.colab import drive\n",
        "drive.mount('/content/drive')"
      ],
      "execution_count": 0,
      "outputs": []
    },
    {
      "cell_type": "code",
      "metadata": {
        "id": "Fue2EjeHE7oF",
        "colab_type": "code",
        "colab": {
          "base_uri": "https://localhost:8080/",
          "height": 34
        },
        "outputId": "53e8a20c-c75d-4064-b4fc-b7708fe428a5"
      },
      "source": [
        "import os\n",
        "os.chdir('/content/drive/My Drive/Udemy NLP')\n",
        "os.getcwd()"
      ],
      "execution_count": 4,
      "outputs": [
        {
          "output_type": "execute_result",
          "data": {
            "text/plain": [
              "'/content/drive/My Drive/Udemy NLP'"
            ]
          },
          "metadata": {
            "tags": []
          },
          "execution_count": 4
        }
      ]
    },
    {
      "cell_type": "code",
      "metadata": {
        "id": "IYz78QwCCMaJ",
        "colab_type": "code",
        "colab": {}
      },
      "source": [
        "import pandas as pd\n",
        "import numpy as np\n",
        "review = pd.read_csv('/content/drive/My Drive/Udemy NLP/moviereviews2.tsv',sep='\\t')\n",
        "\n",
        "\n",
        "\n",
        "\n",
        "\n"
      ],
      "execution_count": 0,
      "outputs": []
    },
    {
      "cell_type": "code",
      "metadata": {
        "id": "9tmbTWo-HPgn",
        "colab_type": "code",
        "colab": {
          "base_uri": "https://localhost:8080/",
          "height": 195
        },
        "outputId": "709b3f3d-67af-4f98-c753-89dc3f6f2654"
      },
      "source": [
        "review.head()"
      ],
      "execution_count": 10,
      "outputs": [
        {
          "output_type": "execute_result",
          "data": {
            "text/html": [
              "<div>\n",
              "<style scoped>\n",
              "    .dataframe tbody tr th:only-of-type {\n",
              "        vertical-align: middle;\n",
              "    }\n",
              "\n",
              "    .dataframe tbody tr th {\n",
              "        vertical-align: top;\n",
              "    }\n",
              "\n",
              "    .dataframe thead th {\n",
              "        text-align: right;\n",
              "    }\n",
              "</style>\n",
              "<table border=\"1\" class=\"dataframe\">\n",
              "  <thead>\n",
              "    <tr style=\"text-align: right;\">\n",
              "      <th></th>\n",
              "      <th>label</th>\n",
              "      <th>review</th>\n",
              "    </tr>\n",
              "  </thead>\n",
              "  <tbody>\n",
              "    <tr>\n",
              "      <th>0</th>\n",
              "      <td>pos</td>\n",
              "      <td>I loved this movie and will watch it again. Or...</td>\n",
              "    </tr>\n",
              "    <tr>\n",
              "      <th>1</th>\n",
              "      <td>pos</td>\n",
              "      <td>A warm, touching movie that has a fantasy-like...</td>\n",
              "    </tr>\n",
              "    <tr>\n",
              "      <th>2</th>\n",
              "      <td>pos</td>\n",
              "      <td>I was not expecting the powerful filmmaking ex...</td>\n",
              "    </tr>\n",
              "    <tr>\n",
              "      <th>3</th>\n",
              "      <td>neg</td>\n",
              "      <td>This so-called \"documentary\" tries to tell tha...</td>\n",
              "    </tr>\n",
              "    <tr>\n",
              "      <th>4</th>\n",
              "      <td>pos</td>\n",
              "      <td>This show has been my escape from reality for ...</td>\n",
              "    </tr>\n",
              "  </tbody>\n",
              "</table>\n",
              "</div>"
            ],
            "text/plain": [
              "  label                                             review\n",
              "0   pos  I loved this movie and will watch it again. Or...\n",
              "1   pos  A warm, touching movie that has a fantasy-like...\n",
              "2   pos  I was not expecting the powerful filmmaking ex...\n",
              "3   neg  This so-called \"documentary\" tries to tell tha...\n",
              "4   pos  This show has been my escape from reality for ..."
            ]
          },
          "metadata": {
            "tags": []
          },
          "execution_count": 10
        }
      ]
    },
    {
      "cell_type": "markdown",
      "metadata": {
        "id": "DEmY9CglCMak",
        "colab_type": "text"
      },
      "source": [
        "### Task #2: Check for missing values:"
      ]
    },
    {
      "cell_type": "code",
      "metadata": {
        "id": "LfJw4y3wCMap",
        "colab_type": "code",
        "colab": {
          "base_uri": "https://localhost:8080/",
          "height": 67
        },
        "outputId": "42c51d9a-5c6f-4e91-bde2-83a3ed9fc6b4"
      },
      "source": [
        "# Check for NaN values:\n",
        "review.isnull().sum()\n"
      ],
      "execution_count": 12,
      "outputs": [
        {
          "output_type": "execute_result",
          "data": {
            "text/plain": [
              "label      0\n",
              "review    20\n",
              "dtype: int64"
            ]
          },
          "metadata": {
            "tags": []
          },
          "execution_count": 12
        }
      ]
    },
    {
      "cell_type": "code",
      "metadata": {
        "id": "STSXPtg1CMbB",
        "colab_type": "code",
        "colab": {
          "base_uri": "https://localhost:8080/",
          "height": 34
        },
        "outputId": "c8f0fc6a-b353-4069-e327-8acf157beb34"
      },
      "source": [
        "# Check for whitespace strings (it's OK if there aren't any!):\n",
        "blanks = []\n",
        "for i,lb,rv in review.itertuples():\n",
        "  if type(rv)==str:\n",
        "    if rv.isspace():\n",
        "      blanks.append(i)\n",
        "len(blanks)\n",
        "\n",
        "\n",
        "\n",
        "\n",
        "\n"
      ],
      "execution_count": 13,
      "outputs": [
        {
          "output_type": "execute_result",
          "data": {
            "text/plain": [
              "0"
            ]
          },
          "metadata": {
            "tags": []
          },
          "execution_count": 13
        }
      ]
    },
    {
      "cell_type": "markdown",
      "metadata": {
        "id": "YTKM3L2ICMbb",
        "colab_type": "text"
      },
      "source": [
        "### Task #3: Remove NaN values:"
      ]
    },
    {
      "cell_type": "code",
      "metadata": {
        "id": "patlTn3tCMbg",
        "colab_type": "code",
        "colab": {}
      },
      "source": [
        "review.dropna(inplace=True)"
      ],
      "execution_count": 0,
      "outputs": []
    },
    {
      "cell_type": "markdown",
      "metadata": {
        "id": "vQlxslHYCMcA",
        "colab_type": "text"
      },
      "source": [
        "### Task #4: Take a quick look at the `label` column:"
      ]
    },
    {
      "cell_type": "code",
      "metadata": {
        "id": "nNHSf-YdCMcL",
        "colab_type": "code",
        "colab": {
          "base_uri": "https://localhost:8080/",
          "height": 67
        },
        "outputId": "8e0be8e8-8245-4794-c809-0cc5ae629584"
      },
      "source": [
        "review['label'].value_counts()"
      ],
      "execution_count": 15,
      "outputs": [
        {
          "output_type": "execute_result",
          "data": {
            "text/plain": [
              "pos    2990\n",
              "neg    2990\n",
              "Name: label, dtype: int64"
            ]
          },
          "metadata": {
            "tags": []
          },
          "execution_count": 15
        }
      ]
    },
    {
      "cell_type": "markdown",
      "metadata": {
        "id": "Z7MGqUCgCMcg",
        "colab_type": "text"
      },
      "source": [
        "### Task #5: Split the data into train & test sets:\n",
        "You may use whatever settings you like. To compare your results to the solution notebook, use `test_size=0.33, random_state=42`"
      ]
    },
    {
      "cell_type": "code",
      "metadata": {
        "id": "aaHgXXTpCMcm",
        "colab_type": "code",
        "colab": {}
      },
      "source": [
        "from sklearn.model_selection import train_test_split\n",
        "X= review['review']\n",
        "y= review['label']\n",
        "\n",
        "X_train,X_test,y_train,y_test=train_test_split(X,y,test_size=0.33,random_state=42)\n",
        "\n",
        "\n",
        "\n",
        "\n"
      ],
      "execution_count": 0,
      "outputs": []
    },
    {
      "cell_type": "markdown",
      "metadata": {
        "id": "eEdS5dUtCMc6",
        "colab_type": "text"
      },
      "source": [
        "### Task #6: Build a pipeline to vectorize the date, then train and fit a model\n",
        "You may use whatever model you like. To compare your results to the solution notebook, use `LinearSVC`."
      ]
    },
    {
      "cell_type": "code",
      "metadata": {
        "id": "9_LFEl8aCMc8",
        "colab_type": "code",
        "colab": {
          "base_uri": "https://localhost:8080/",
          "height": 370
        },
        "outputId": "63625b5b-39e6-4f66-8dbc-ce4b25a0b03f"
      },
      "source": [
        "from sklearn.pipeline import Pipeline\n",
        "from sklearn.feature_extraction.text import TfidfVectorizer\n",
        "from sklearn.svm import LinearSVC\n",
        "\n",
        "text_clf = Pipeline([('tfidf',TfidfVectorizer()),('clf',LinearSVC())])\n",
        "text_clf.fit(X_train,y_train)\n",
        "\n",
        "\n",
        "\n",
        "\n",
        "\n",
        "\n",
        "\n",
        "\n"
      ],
      "execution_count": 24,
      "outputs": [
        {
          "output_type": "execute_result",
          "data": {
            "text/plain": [
              "Pipeline(memory=None,\n",
              "         steps=[('tfidf',\n",
              "                 TfidfVectorizer(analyzer='word', binary=False,\n",
              "                                 decode_error='strict',\n",
              "                                 dtype=<class 'numpy.float64'>,\n",
              "                                 encoding='utf-8', input='content',\n",
              "                                 lowercase=True, max_df=1.0, max_features=None,\n",
              "                                 min_df=1, ngram_range=(1, 1), norm='l2',\n",
              "                                 preprocessor=None, smooth_idf=True,\n",
              "                                 stop_words=None, strip_accents=None,\n",
              "                                 sublinear_tf=False,\n",
              "                                 token_pattern='(?u)\\\\b\\\\w\\\\w+\\\\b',\n",
              "                                 tokenizer=None, use_idf=True,\n",
              "                                 vocabulary=None)),\n",
              "                ('clf',\n",
              "                 LinearSVC(C=1.0, class_weight=None, dual=True,\n",
              "                           fit_intercept=True, intercept_scaling=1,\n",
              "                           loss='squared_hinge', max_iter=1000,\n",
              "                           multi_class='ovr', penalty='l2', random_state=None,\n",
              "                           tol=0.0001, verbose=0))],\n",
              "         verbose=False)"
            ]
          },
          "metadata": {
            "tags": []
          },
          "execution_count": 24
        }
      ]
    },
    {
      "cell_type": "markdown",
      "metadata": {
        "id": "210P_lMVCMdO",
        "colab_type": "text"
      },
      "source": [
        "### Task #7: Run predictions and analyze the results"
      ]
    },
    {
      "cell_type": "code",
      "metadata": {
        "id": "_piQSy5dCMdR",
        "colab_type": "code",
        "colab": {}
      },
      "source": [
        "# Form a prediction set\n",
        "predictions=text_clf.predict(X_test)\n"
      ],
      "execution_count": 0,
      "outputs": []
    },
    {
      "cell_type": "code",
      "metadata": {
        "id": "D7jTW48PCMdo",
        "colab_type": "code",
        "colab": {
          "base_uri": "https://localhost:8080/",
          "height": 50
        },
        "outputId": "3196a150-8a2d-43d5-9f2b-2741b327e467"
      },
      "source": [
        "# Report the confusion matrix\n",
        "from sklearn import metrics\n",
        "print(metrics.confusion_matrix(y_test,predictions))\n"
      ],
      "execution_count": 26,
      "outputs": [
        {
          "output_type": "stream",
          "text": [
            "[[900  91]\n",
            " [ 63 920]]\n"
          ],
          "name": "stdout"
        }
      ]
    },
    {
      "cell_type": "code",
      "metadata": {
        "id": "FJit22NiCMd5",
        "colab_type": "code",
        "colab": {
          "base_uri": "https://localhost:8080/",
          "height": 168
        },
        "outputId": "9085a704-e65f-46e9-fd0a-8557aff4db35"
      },
      "source": [
        "# Print a classification report\n",
        "print(metrics.classification_report(y_test,predictions))"
      ],
      "execution_count": 27,
      "outputs": [
        {
          "output_type": "stream",
          "text": [
            "              precision    recall  f1-score   support\n",
            "\n",
            "         neg       0.93      0.91      0.92       991\n",
            "         pos       0.91      0.94      0.92       983\n",
            "\n",
            "    accuracy                           0.92      1974\n",
            "   macro avg       0.92      0.92      0.92      1974\n",
            "weighted avg       0.92      0.92      0.92      1974\n",
            "\n"
          ],
          "name": "stdout"
        }
      ]
    },
    {
      "cell_type": "code",
      "metadata": {
        "id": "-yYhVSXsCMeO",
        "colab_type": "code",
        "colab": {
          "base_uri": "https://localhost:8080/",
          "height": 34
        },
        "outputId": "3bbdbd76-36df-47bb-b4f9-c156b33bfd16"
      },
      "source": [
        "# Print the overall accuracy\n",
        "print(metrics.accuracy_score(y_test,predictions))"
      ],
      "execution_count": 28,
      "outputs": [
        {
          "output_type": "stream",
          "text": [
            "0.9219858156028369\n"
          ],
          "name": "stdout"
        }
      ]
    },
    {
      "cell_type": "markdown",
      "metadata": {
        "id": "yssQDeTLCMef",
        "colab_type": "text"
      },
      "source": [
        "## Great job!"
      ]
    }
  ]
}