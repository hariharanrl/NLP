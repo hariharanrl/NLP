{
  "nbformat": 4,
  "nbformat_minor": 0,
  "metadata": {
    "colab": {
      "name": "NLP Text Classification.ipynb",
      "provenance": [],
      "collapsed_sections": [],
      "mount_file_id": "1HlAn3Ii3MdgbJLhgJ5uO17kqg24VKLKI",
      "authorship_tag": "ABX9TyMBBrOVyPEEsdwq6RSzAOaS",
      "include_colab_link": true
    },
    "kernelspec": {
      "name": "python3",
      "display_name": "Python 3"
    }
  },
  "cells": [
    {
      "cell_type": "markdown",
      "metadata": {
        "id": "view-in-github",
        "colab_type": "text"
      },
      "source": [
        "<a href=\"https://colab.research.google.com/github/hariharanrl/NLP/blob/master/NLP_Text_Classification.ipynb\" target=\"_parent\"><img src=\"https://colab.research.google.com/assets/colab-badge.svg\" alt=\"Open In Colab\"/></a>"
      ]
    },
    {
      "cell_type": "markdown",
      "metadata": {
        "id": "-laMtDSWD-wN",
        "colab_type": "text"
      },
      "source": [
        "#Mount Google Drive"
      ]
    },
    {
      "cell_type": "code",
      "metadata": {
        "id": "En_DXeBrqhxU",
        "colab_type": "code",
        "colab": {}
      },
      "source": [
        "import pandas as pd\n",
        "import os\n",
        "os.chdir('/content/drive/My Drive')"
      ],
      "execution_count": 0,
      "outputs": []
    },
    {
      "cell_type": "markdown",
      "metadata": {
        "id": "2Va_41pyEJEH",
        "colab_type": "text"
      },
      "source": [
        "#Spacy (Not needed)"
      ]
    },
    {
      "cell_type": "code",
      "metadata": {
        "id": "trGnrwvkyNSv",
        "colab_type": "code",
        "colab": {}
      },
      "source": [
        "#import spacy\n",
        "#nlp=spacy.load('en_core_web_sm')#lg large library #sm small library"
      ],
      "execution_count": 0,
      "outputs": []
    },
    {
      "cell_type": "code",
      "metadata": {
        "id": "sV1bCWD_0GYU",
        "colab_type": "code",
        "colab": {}
      },
      "source": [
        "#stopwords=nlp.Defaults.stop_words"
      ],
      "execution_count": 0,
      "outputs": []
    },
    {
      "cell_type": "code",
      "metadata": {
        "id": "Bg77bTj85Ihi",
        "colab_type": "code",
        "outputId": "6c911049-8b98-45e5-faed-eeaf72c1de5e",
        "colab": {
          "base_uri": "https://localhost:8080/",
          "height": 34
        }
      },
      "source": [
        "#len(stopwords)"
      ],
      "execution_count": 0,
      "outputs": [
        {
          "output_type": "execute_result",
          "data": {
            "text/plain": [
              "326"
            ]
          },
          "metadata": {
            "tags": []
          },
          "execution_count": 53
        }
      ]
    },
    {
      "cell_type": "code",
      "metadata": {
        "id": "lbvsPmk45sR3",
        "colab_type": "code",
        "outputId": "a9dae6b6-607d-4297-c744-c56f8aa4eabb",
        "colab": {
          "base_uri": "https://localhost:8080/",
          "height": 34
        }
      },
      "source": [
        "#nlp.vocab['@user'].is_stop"
      ],
      "execution_count": 0,
      "outputs": [
        {
          "output_type": "execute_result",
          "data": {
            "text/plain": [
              "False"
            ]
          },
          "metadata": {
            "tags": []
          },
          "execution_count": 51
        }
      ]
    },
    {
      "cell_type": "code",
      "metadata": {
        "id": "9tRPsEqL6BtF",
        "colab_type": "code",
        "colab": {}
      },
      "source": [
        "#to add a stop word\n",
        "#nlp.Defaults.stop_words.add('@user') \n",
        "#nlp.vocab['@user'].is_stop=True"
      ],
      "execution_count": 0,
      "outputs": []
    },
    {
      "cell_type": "markdown",
      "metadata": {
        "id": "YU4Vrd_4EQAd",
        "colab_type": "text"
      },
      "source": [
        "#Download the Vader Class from NLTK"
      ]
    },
    {
      "cell_type": "code",
      "metadata": {
        "id": "EnFJQXiXShG0",
        "colab_type": "code",
        "outputId": "cfc11576-4f38-4db1-a776-28e4afbdef77",
        "colab": {
          "base_uri": "https://localhost:8080/",
          "height": 50
        }
      },
      "source": [
        "import nltk\n",
        "nltk.download('vader_lexicon')"
      ],
      "execution_count": 2,
      "outputs": [
        {
          "output_type": "stream",
          "text": [
            "[nltk_data] Downloading package vader_lexicon to /root/nltk_data...\n"
          ],
          "name": "stdout"
        },
        {
          "output_type": "execute_result",
          "data": {
            "text/plain": [
              "True"
            ]
          },
          "metadata": {
            "tags": []
          },
          "execution_count": 2
        }
      ]
    },
    {
      "cell_type": "markdown",
      "metadata": {
        "id": "59TD6Su4EioJ",
        "colab_type": "text"
      },
      "source": [
        "##Load the data"
      ]
    },
    {
      "cell_type": "code",
      "metadata": {
        "id": "8GIgnEivr6q5",
        "colab_type": "code",
        "colab": {}
      },
      "source": [
        "data=pd.read_csv('task_b_distant.tsv',sep='\\t')"
      ],
      "execution_count": 0,
      "outputs": []
    },
    {
      "cell_type": "markdown",
      "metadata": {
        "id": "oxsQQ0IOEqBz",
        "colab_type": "text"
      },
      "source": [
        "##Install and Import Tweet Preprocessor"
      ]
    },
    {
      "cell_type": "code",
      "metadata": {
        "id": "U4Gs7XxpBAbj",
        "colab_type": "code",
        "outputId": "6bc9e68b-e7b2-46e4-e973-8bf6fe62850b",
        "colab": {
          "base_uri": "https://localhost:8080/",
          "height": 188
        }
      },
      "source": [
        "!pip install tweet-preprocessor"
      ],
      "execution_count": 4,
      "outputs": [
        {
          "output_type": "stream",
          "text": [
            "Collecting tweet-preprocessor\n",
            "  Downloading https://files.pythonhosted.org/packages/2a/f8/810ec35c31cca89bc4f1a02c14b042b9ec6c19dd21f7ef1876874ef069a6/tweet-preprocessor-0.5.0.tar.gz\n",
            "Building wheels for collected packages: tweet-preprocessor\n",
            "  Building wheel for tweet-preprocessor (setup.py) ... \u001b[?25l\u001b[?25hdone\n",
            "  Created wheel for tweet-preprocessor: filename=tweet_preprocessor-0.5.0-cp36-none-any.whl size=7947 sha256=f7934a49d18fd7dae200f22704adb43ec90990888990c2a5e3f84633d79c24c5\n",
            "  Stored in directory: /root/.cache/pip/wheels/1b/27/cc/49938e98a2470802ebdefae9d2b3f524768e970c1ebbe2dc4a\n",
            "Successfully built tweet-preprocessor\n",
            "Installing collected packages: tweet-preprocessor\n",
            "Successfully installed tweet-preprocessor-0.5.0\n"
          ],
          "name": "stdout"
        }
      ]
    },
    {
      "cell_type": "code",
      "metadata": {
        "id": "4cE1hh-vBJxS",
        "colab_type": "code",
        "colab": {}
      },
      "source": [
        "import preprocessor as p"
      ],
      "execution_count": 0,
      "outputs": []
    },
    {
      "cell_type": "markdown",
      "metadata": {
        "id": "lhLT3ZSjE0VG",
        "colab_type": "text"
      },
      "source": [
        "##Clean the tweet in the imported data using preprocessor"
      ]
    },
    {
      "cell_type": "code",
      "metadata": {
        "id": "I3EK8o94B_uN",
        "colab_type": "code",
        "outputId": "5cf59af8-0bac-4af2-ff30-850ea2239370",
        "colab": {
          "base_uri": "https://localhost:8080/",
          "height": 34
        }
      },
      "source": [
        "p.clean(data.loc[0]['text'])"
      ],
      "execution_count": 6,
      "outputs": [
        {
          "output_type": "execute_result",
          "data": {
            "text/plain": [
              "'His ass need to stay up'"
            ]
          },
          "metadata": {
            "tags": []
          },
          "execution_count": 6
        }
      ]
    },
    {
      "cell_type": "code",
      "metadata": {
        "id": "rA9cnBf2CXei",
        "colab_type": "code",
        "outputId": "5a8f73fb-e660-4160-da6d-df0056bb25f9",
        "colab": {
          "base_uri": "https://localhost:8080/",
          "height": 246
        }
      },
      "source": [
        "data['cleaned_tweet']=data['text'].apply(lambda text:p.clean(text))\n",
        "data.head()"
      ],
      "execution_count": 7,
      "outputs": [
        {
          "output_type": "execute_result",
          "data": {
            "text/html": [
              "<div>\n",
              "<style scoped>\n",
              "    .dataframe tbody tr th:only-of-type {\n",
              "        vertical-align: middle;\n",
              "    }\n",
              "\n",
              "    .dataframe tbody tr th {\n",
              "        vertical-align: top;\n",
              "    }\n",
              "\n",
              "    .dataframe thead th {\n",
              "        text-align: right;\n",
              "    }\n",
              "</style>\n",
              "<table border=\"1\" class=\"dataframe\">\n",
              "  <thead>\n",
              "    <tr style=\"text-align: right;\">\n",
              "      <th></th>\n",
              "      <th>id</th>\n",
              "      <th>text</th>\n",
              "      <th>average</th>\n",
              "      <th>std</th>\n",
              "      <th>cleaned_tweet</th>\n",
              "    </tr>\n",
              "  </thead>\n",
              "  <tbody>\n",
              "    <tr>\n",
              "      <th>0</th>\n",
              "      <td>1159533703758061570</td>\n",
              "      <td>@USER His ass need to stay up 😂😂</td>\n",
              "      <td>0.176201</td>\n",
              "      <td>0.267800</td>\n",
              "      <td>His ass need to stay up</td>\n",
              "    </tr>\n",
              "    <tr>\n",
              "      <th>1</th>\n",
              "      <td>1159533712079503361</td>\n",
              "      <td>@USER Trump is a fucking idiot his dementia is...</td>\n",
              "      <td>0.173800</td>\n",
              "      <td>0.239891</td>\n",
              "      <td>Trump is a fucking idiot his dementia is getti...</td>\n",
              "    </tr>\n",
              "    <tr>\n",
              "      <th>2</th>\n",
              "      <td>1159533713044234241</td>\n",
              "      <td>@USER HELL YES! His grinned and thumbs up are ...</td>\n",
              "      <td>0.199833</td>\n",
              "      <td>0.212598</td>\n",
              "      <td>HELL YES! His grinned and thumbs up are disgus...</td>\n",
              "    </tr>\n",
              "    <tr>\n",
              "      <th>3</th>\n",
              "      <td>1159533718345830400</td>\n",
              "      <td>@USER Can't wait to see the shit show his deat...</td>\n",
              "      <td>0.144666</td>\n",
              "      <td>0.235204</td>\n",
              "      <td>Can't wait to see the shit show his death will...</td>\n",
              "    </tr>\n",
              "    <tr>\n",
              "      <th>4</th>\n",
              "      <td>1159533739871002625</td>\n",
              "      <td>@USER @USER @USER This guys is dumb check his ...</td>\n",
              "      <td>0.116019</td>\n",
              "      <td>0.186851</td>\n",
              "      <td>This guys is dumb check his latest tweets he i...</td>\n",
              "    </tr>\n",
              "  </tbody>\n",
              "</table>\n",
              "</div>"
            ],
            "text/plain": [
              "                    id  ...                                      cleaned_tweet\n",
              "0  1159533703758061570  ...                            His ass need to stay up\n",
              "1  1159533712079503361  ...  Trump is a fucking idiot his dementia is getti...\n",
              "2  1159533713044234241  ...  HELL YES! His grinned and thumbs up are disgus...\n",
              "3  1159533718345830400  ...  Can't wait to see the shit show his death will...\n",
              "4  1159533739871002625  ...  This guys is dumb check his latest tweets he i...\n",
              "\n",
              "[5 rows x 5 columns]"
            ]
          },
          "metadata": {
            "tags": []
          },
          "execution_count": 7
        }
      ]
    },
    {
      "cell_type": "markdown",
      "metadata": {
        "id": "4lFHvT5PFADt",
        "colab_type": "text"
      },
      "source": [
        "##Use the vader class to calculate the polarity scores for the cleaned tweets"
      ]
    },
    {
      "cell_type": "code",
      "metadata": {
        "id": "wKBNoqy5UQuv",
        "colab_type": "code",
        "outputId": "812f1f4d-28bc-4039-84b9-77e1fd601246",
        "colab": {
          "base_uri": "https://localhost:8080/",
          "height": 70
        }
      },
      "source": [
        "from nltk.sentiment.vader import SentimentIntensityAnalyzer\n",
        "sid = SentimentIntensityAnalyzer()\n"
      ],
      "execution_count": 8,
      "outputs": [
        {
          "output_type": "stream",
          "text": [
            "/usr/local/lib/python3.6/dist-packages/nltk/twitter/__init__.py:20: UserWarning: The twython library has not been installed. Some functionality from the twitter package will not be available.\n",
            "  warnings.warn(\"The twython library has not been installed. \"\n"
          ],
          "name": "stderr"
        }
      ]
    },
    {
      "cell_type": "code",
      "metadata": {
        "id": "A3U-xQA4VjOv",
        "colab_type": "code",
        "outputId": "69db96f9-74d2-4469-d773-3a6552dd88fe",
        "colab": {
          "base_uri": "https://localhost:8080/",
          "height": 34
        }
      },
      "source": [
        "sid.polarity_scores(data.loc[3]['text'])"
      ],
      "execution_count": 9,
      "outputs": [
        {
          "output_type": "execute_result",
          "data": {
            "text/plain": [
              "{'compound': 0.0258, 'neg': 0.218, 'neu': 0.559, 'pos': 0.223}"
            ]
          },
          "metadata": {
            "tags": []
          },
          "execution_count": 9
        }
      ]
    },
    {
      "cell_type": "markdown",
      "metadata": {
        "id": "bshrINIzFPtw",
        "colab_type": "text"
      },
      "source": [
        "##Label the tweet using the compound score"
      ]
    },
    {
      "cell_type": "code",
      "metadata": {
        "id": "UICzLxrUXH5i",
        "colab_type": "code",
        "outputId": "e2d26d3f-a5b6-47d8-8ef2-a2fb331a3970",
        "colab": {
          "base_uri": "https://localhost:8080/",
          "height": 363
        }
      },
      "source": [
        "data['scores']=data['cleaned_tweet'].apply(lambda text:sid.polarity_scores(text))\n",
        "data['label']=data['scores'].apply(lambda d:d['compound'])\n",
        "data['class']=data['label'].apply(lambda c:'off' if c<=-0.05 else 'not')\n",
        "data.head()"
      ],
      "execution_count": 10,
      "outputs": [
        {
          "output_type": "execute_result",
          "data": {
            "text/html": [
              "<div>\n",
              "<style scoped>\n",
              "    .dataframe tbody tr th:only-of-type {\n",
              "        vertical-align: middle;\n",
              "    }\n",
              "\n",
              "    .dataframe tbody tr th {\n",
              "        vertical-align: top;\n",
              "    }\n",
              "\n",
              "    .dataframe thead th {\n",
              "        text-align: right;\n",
              "    }\n",
              "</style>\n",
              "<table border=\"1\" class=\"dataframe\">\n",
              "  <thead>\n",
              "    <tr style=\"text-align: right;\">\n",
              "      <th></th>\n",
              "      <th>id</th>\n",
              "      <th>text</th>\n",
              "      <th>average</th>\n",
              "      <th>std</th>\n",
              "      <th>cleaned_tweet</th>\n",
              "      <th>scores</th>\n",
              "      <th>label</th>\n",
              "      <th>class</th>\n",
              "    </tr>\n",
              "  </thead>\n",
              "  <tbody>\n",
              "    <tr>\n",
              "      <th>0</th>\n",
              "      <td>1159533703758061570</td>\n",
              "      <td>@USER His ass need to stay up 😂😂</td>\n",
              "      <td>0.176201</td>\n",
              "      <td>0.267800</td>\n",
              "      <td>His ass need to stay up</td>\n",
              "      <td>{'neg': 0.412, 'neu': 0.588, 'pos': 0.0, 'comp...</td>\n",
              "      <td>-0.5423</td>\n",
              "      <td>off</td>\n",
              "    </tr>\n",
              "    <tr>\n",
              "      <th>1</th>\n",
              "      <td>1159533712079503361</td>\n",
              "      <td>@USER Trump is a fucking idiot his dementia is...</td>\n",
              "      <td>0.173800</td>\n",
              "      <td>0.239891</td>\n",
              "      <td>Trump is a fucking idiot his dementia is getti...</td>\n",
              "      <td>{'neg': 0.489, 'neu': 0.511, 'pos': 0.0, 'comp...</td>\n",
              "      <td>-0.7713</td>\n",
              "      <td>off</td>\n",
              "    </tr>\n",
              "    <tr>\n",
              "      <th>2</th>\n",
              "      <td>1159533713044234241</td>\n",
              "      <td>@USER HELL YES! His grinned and thumbs up are ...</td>\n",
              "      <td>0.199833</td>\n",
              "      <td>0.212598</td>\n",
              "      <td>HELL YES! His grinned and thumbs up are disgus...</td>\n",
              "      <td>{'neg': 0.469, 'neu': 0.252, 'pos': 0.279, 'co...</td>\n",
              "      <td>-0.6988</td>\n",
              "      <td>off</td>\n",
              "    </tr>\n",
              "    <tr>\n",
              "      <th>3</th>\n",
              "      <td>1159533718345830400</td>\n",
              "      <td>@USER Can't wait to see the shit show his deat...</td>\n",
              "      <td>0.144666</td>\n",
              "      <td>0.235204</td>\n",
              "      <td>Can't wait to see the shit show his death will...</td>\n",
              "      <td>{'neg': 0.231, 'neu': 0.533, 'pos': 0.237, 'co...</td>\n",
              "      <td>0.0258</td>\n",
              "      <td>not</td>\n",
              "    </tr>\n",
              "    <tr>\n",
              "      <th>4</th>\n",
              "      <td>1159533739871002625</td>\n",
              "      <td>@USER @USER @USER This guys is dumb check his ...</td>\n",
              "      <td>0.116019</td>\n",
              "      <td>0.186851</td>\n",
              "      <td>This guys is dumb check his latest tweets he i...</td>\n",
              "      <td>{'neg': 0.423, 'neu': 0.577, 'pos': 0.0, 'comp...</td>\n",
              "      <td>-0.7650</td>\n",
              "      <td>off</td>\n",
              "    </tr>\n",
              "  </tbody>\n",
              "</table>\n",
              "</div>"
            ],
            "text/plain": [
              "                    id  ... class\n",
              "0  1159533703758061570  ...   off\n",
              "1  1159533712079503361  ...   off\n",
              "2  1159533713044234241  ...   off\n",
              "3  1159533718345830400  ...   not\n",
              "4  1159533739871002625  ...   off\n",
              "\n",
              "[5 rows x 8 columns]"
            ]
          },
          "metadata": {
            "tags": []
          },
          "execution_count": 10
        }
      ]
    },
    {
      "cell_type": "markdown",
      "metadata": {
        "id": "fxnH76OJFb2v",
        "colab_type": "text"
      },
      "source": [
        "##Check for any Null texts"
      ]
    },
    {
      "cell_type": "code",
      "metadata": {
        "id": "i1FhWFbDskti",
        "colab_type": "code",
        "outputId": "68b7139a-1656-4d17-9a09-5e2436ec0abf",
        "colab": {
          "base_uri": "https://localhost:8080/",
          "height": 168
        }
      },
      "source": [
        "data.isnull().sum()"
      ],
      "execution_count": 0,
      "outputs": [
        {
          "output_type": "execute_result",
          "data": {
            "text/plain": [
              "id               0\n",
              "text             0\n",
              "average          0\n",
              "std              0\n",
              "cleaned_tweet    0\n",
              "scores           0\n",
              "label            0\n",
              "class            0\n",
              "dtype: int64"
            ]
          },
          "metadata": {
            "tags": []
          },
          "execution_count": 15
        }
      ]
    },
    {
      "cell_type": "markdown",
      "metadata": {
        "id": "YHhtIwWPFjYo",
        "colab_type": "text"
      },
      "source": [
        "##Check for blanks"
      ]
    },
    {
      "cell_type": "code",
      "metadata": {
        "id": "oENIiLVEsq_p",
        "colab_type": "code",
        "colab": {}
      },
      "source": [
        "blanks=[]\n",
        "for i,j,text,avg,std in data.itertuples():\n",
        "  if type(text)==str:\n",
        "    if text.isspace():\n",
        "      blanks.append(i)\n",
        "print(len(blanks))"
      ],
      "execution_count": 0,
      "outputs": []
    },
    {
      "cell_type": "code",
      "metadata": {
        "id": "sK4IHVyz19r6",
        "colab_type": "code",
        "outputId": "a7443d83-8f14-4e9b-fb7c-01f32d66b7e4",
        "colab": {
          "base_uri": "https://localhost:8080/",
          "height": 67
        }
      },
      "source": [
        "data['class'].value_counts()"
      ],
      "execution_count": 11,
      "outputs": [
        {
          "output_type": "execute_result",
          "data": {
            "text/plain": [
              "off    160693\n",
              "not     28034\n",
              "Name: class, dtype: int64"
            ]
          },
          "metadata": {
            "tags": []
          },
          "execution_count": 11
        }
      ]
    },
    {
      "cell_type": "markdown",
      "metadata": {
        "id": "_pELCpjQFroE",
        "colab_type": "text"
      },
      "source": [
        "#Training and test split "
      ]
    },
    {
      "cell_type": "code",
      "metadata": {
        "id": "deeyS4Ei24Qb",
        "colab_type": "code",
        "colab": {}
      },
      "source": [
        "from sklearn.model_selection import train_test_split\n",
        "X=data['cleaned_tweet']\n",
        "y=data['class']\n",
        "X_train,X_test,y_train,y_test=train_test_split(X,y,test_size=0.20)"
      ],
      "execution_count": 0,
      "outputs": []
    },
    {
      "cell_type": "markdown",
      "metadata": {
        "id": "VdlNt5l8FvzH",
        "colab_type": "text"
      },
      "source": [
        "##Building a Naive bayes and Linear SVM model "
      ]
    },
    {
      "cell_type": "code",
      "metadata": {
        "id": "FUeeBIMZ8W8B",
        "colab_type": "code",
        "colab": {}
      },
      "source": [
        "from sklearn.pipeline import Pipeline\n",
        "from sklearn.feature_extraction.text import TfidfVectorizer\n",
        "from sklearn.naive_bayes import MultinomialNB\n",
        "from sklearn.svm import LinearSVC\n",
        "\n",
        "#text_cls_nb=Pipeline([('tfidf',TfidfVectorizer(stop_words='english')),('clf',MultinomialNB()),])\n",
        "text_cls_svm=Pipeline([('tfidf',TfidfVectorizer(min_df=5,max_df=0.9,ngram_range=(1,5))),('clf',LinearSVC()),])\n"
      ],
      "execution_count": 0,
      "outputs": []
    },
    {
      "cell_type": "code",
      "metadata": {
        "id": "-06aQEMY0u8o",
        "colab_type": "code",
        "colab": {
          "base_uri": "https://localhost:8080/",
          "height": 50
        },
        "outputId": "52e9a3e7-b8a7-4210-9bea-44d9f0e5d984"
      },
      "source": [
        "tfidf=TfidfVectorizer(stop_words='english',min_df=5,max_df=0.9,ngram_range=(1,1))\n",
        "tfidf.fit_transform(X_train)\n"
      ],
      "execution_count": 37,
      "outputs": [
        {
          "output_type": "execute_result",
          "data": {
            "text/plain": [
              "<150981x11023 sparse matrix of type '<class 'numpy.float64'>'\n",
              "\twith 943893 stored elements in Compressed Sparse Row format>"
            ]
          },
          "metadata": {
            "tags": []
          },
          "execution_count": 37
        }
      ]
    },
    {
      "cell_type": "markdown",
      "metadata": {
        "id": "D4bqRFzpF6rM",
        "colab_type": "text"
      },
      "source": [
        "##Fit the model with the train data"
      ]
    },
    {
      "cell_type": "code",
      "metadata": {
        "id": "H3u6yXay9YzK",
        "colab_type": "code",
        "outputId": "65d4a0ec-b6bf-44b6-d5c2-4ec40ce5ea8e",
        "colab": {
          "base_uri": "https://localhost:8080/",
          "height": 370
        }
      },
      "source": [
        "#text_cls_nb.fit(X_train,y_train)\n",
        "text_cls_svm.fit(X_train,y_train)"
      ],
      "execution_count": 58,
      "outputs": [
        {
          "output_type": "execute_result",
          "data": {
            "text/plain": [
              "Pipeline(memory=None,\n",
              "         steps=[('tfidf',\n",
              "                 TfidfVectorizer(analyzer='word', binary=False,\n",
              "                                 decode_error='strict',\n",
              "                                 dtype=<class 'numpy.float64'>,\n",
              "                                 encoding='utf-8', input='content',\n",
              "                                 lowercase=True, max_df=0.9, max_features=None,\n",
              "                                 min_df=5, ngram_range=(1, 5), norm='l2',\n",
              "                                 preprocessor=None, smooth_idf=True,\n",
              "                                 stop_words=None, strip_accents=None,\n",
              "                                 sublinear_tf=False,\n",
              "                                 token_pattern='(?u)\\\\b\\\\w\\\\w+\\\\b',\n",
              "                                 tokenizer=None, use_idf=True,\n",
              "                                 vocabulary=None)),\n",
              "                ('clf',\n",
              "                 LinearSVC(C=1.0, class_weight=None, dual=True,\n",
              "                           fit_intercept=True, intercept_scaling=1,\n",
              "                           loss='squared_hinge', max_iter=1000,\n",
              "                           multi_class='ovr', penalty='l2', random_state=None,\n",
              "                           tol=0.0001, verbose=0))],\n",
              "         verbose=False)"
            ]
          },
          "metadata": {
            "tags": []
          },
          "execution_count": 58
        }
      ]
    },
    {
      "cell_type": "markdown",
      "metadata": {
        "id": "13bWGXmAF_9b",
        "colab_type": "text"
      },
      "source": [
        "##Prediction, Confusion Matrix and Classification Report"
      ]
    },
    {
      "cell_type": "code",
      "metadata": {
        "id": "mOMdDBId9gsk",
        "colab_type": "code",
        "colab": {}
      },
      "source": [
        "#prediction=text_cls_nb.predict(X_test)\n",
        "prediction=text_cls_svm.predict(X_test)"
      ],
      "execution_count": 0,
      "outputs": []
    },
    {
      "cell_type": "code",
      "metadata": {
        "id": "ohwrVVWt9oRV",
        "colab_type": "code",
        "outputId": "461168f4-1d35-4879-fef9-9d49124674bd",
        "colab": {
          "base_uri": "https://localhost:8080/",
          "height": 50
        }
      },
      "source": [
        "from sklearn import metrics\n",
        "print(metrics.confusion_matrix(y_test,prediction))"
      ],
      "execution_count": 60,
      "outputs": [
        {
          "output_type": "stream",
          "text": [
            "[[ 3424  2136]\n",
            " [  962 31224]]\n"
          ],
          "name": "stdout"
        }
      ]
    },
    {
      "cell_type": "code",
      "metadata": {
        "id": "XHkZSjHq92Zk",
        "colab_type": "code",
        "outputId": "eec50bd9-905a-46d4-d576-5d17c5ff67a4",
        "colab": {
          "base_uri": "https://localhost:8080/",
          "height": 168
        }
      },
      "source": [
        "print(metrics.classification_report(y_test,prediction))"
      ],
      "execution_count": 61,
      "outputs": [
        {
          "output_type": "stream",
          "text": [
            "              precision    recall  f1-score   support\n",
            "\n",
            "         not       0.78      0.62      0.69      5560\n",
            "         off       0.94      0.97      0.95     32186\n",
            "\n",
            "    accuracy                           0.92     37746\n",
            "   macro avg       0.86      0.79      0.82     37746\n",
            "weighted avg       0.91      0.92      0.91     37746\n",
            "\n"
          ],
          "name": "stdout"
        }
      ]
    },
    {
      "cell_type": "code",
      "metadata": {
        "id": "FqOvTYCe989C",
        "colab_type": "code",
        "outputId": "dc7d7c2f-85e8-43c2-aa42-d075bcf026a2",
        "colab": {
          "base_uri": "https://localhost:8080/",
          "height": 34
        }
      },
      "source": [
        "print(metrics.accuracy_score(y_test,prediction))"
      ],
      "execution_count": 62,
      "outputs": [
        {
          "output_type": "stream",
          "text": [
            "0.9179250781539766\n"
          ],
          "name": "stdout"
        }
      ]
    },
    {
      "cell_type": "code",
      "metadata": {
        "id": "LW-ozOlH39QU",
        "colab_type": "code",
        "colab": {
          "base_uri": "https://localhost:8080/",
          "height": 34
        },
        "outputId": "e3ddcc2b-c504-4f6f-bab3-889b8f191c6d"
      },
      "source": [
        "print(metrics.f1_score(y_test,prediction,average='weighted'))"
      ],
      "execution_count": 68,
      "outputs": [
        {
          "output_type": "stream",
          "text": [
            "0.9138161483480721\n"
          ],
          "name": "stdout"
        }
      ]
    },
    {
      "cell_type": "code",
      "metadata": {
        "id": "U2KPcQEv-HIP",
        "colab_type": "code",
        "outputId": "b8fb099d-a637-4bcb-b174-97cbce5ccd98",
        "colab": {
          "base_uri": "https://localhost:8080/",
          "height": 34
        }
      },
      "source": [
        "print(text_cls_svm.predict(['A great day to begin!!! Good morning']))"
      ],
      "execution_count": 69,
      "outputs": [
        {
          "output_type": "stream",
          "text": [
            "['not']\n"
          ],
          "name": "stdout"
        }
      ]
    },
    {
      "cell_type": "code",
      "metadata": {
        "id": "4x1guF9280tW",
        "colab_type": "code",
        "outputId": "73a1f465-4c5b-4f54-f182-9e27154beb3b",
        "colab": {
          "base_uri": "https://localhost:8080/",
          "height": 34
        }
      },
      "source": [
        "print(text_cls_svm.predict(['Bull Shit']))"
      ],
      "execution_count": 64,
      "outputs": [
        {
          "output_type": "stream",
          "text": [
            "['off']\n"
          ],
          "name": "stdout"
        }
      ]
    },
    {
      "cell_type": "code",
      "metadata": {
        "id": "ng9q2rq09zW1",
        "colab_type": "code",
        "colab": {}
      },
      "source": [
        ""
      ],
      "execution_count": 0,
      "outputs": []
    }
  ]
}