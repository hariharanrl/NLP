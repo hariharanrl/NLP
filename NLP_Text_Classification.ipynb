{
  "nbformat": 4,
  "nbformat_minor": 0,
  "metadata": {
    "colab": {
      "name": "NLP Text Classification.ipynb",
      "provenance": [],
      "collapsed_sections": [],
      "mount_file_id": "1HlAn3Ii3MdgbJLhgJ5uO17kqg24VKLKI",
      "authorship_tag": "ABX9TyPK+UEX4ptVwu9xG0zxwQoR",
      "include_colab_link": true
    },
    "kernelspec": {
      "name": "python3",
      "display_name": "Python 3"
    }
  },
  "cells": [
    {
      "cell_type": "markdown",
      "metadata": {
        "id": "view-in-github",
        "colab_type": "text"
      },
      "source": [
        "<a href=\"https://colab.research.google.com/github/hariharanrl/NLP/blob/master/NLP_Text_Classification.ipynb\" target=\"_parent\"><img src=\"https://colab.research.google.com/assets/colab-badge.svg\" alt=\"Open In Colab\"/></a>"
      ]
    },
    {
      "cell_type": "markdown",
      "metadata": {
        "id": "-laMtDSWD-wN",
        "colab_type": "text"
      },
      "source": [
        "#Mount Google Drive"
      ]
    },
    {
      "cell_type": "code",
      "metadata": {
        "id": "En_DXeBrqhxU",
        "colab_type": "code",
        "colab": {}
      },
      "source": [
        "import pandas as pd\n",
        "import os\n",
        "os.chdir('/content/drive/My Drive')"
      ],
      "execution_count": 0,
      "outputs": []
    },
    {
      "cell_type": "markdown",
      "metadata": {
        "id": "2Va_41pyEJEH",
        "colab_type": "text"
      },
      "source": [
        "#Spacy (Not needed)"
      ]
    },
    {
      "cell_type": "code",
      "metadata": {
        "id": "trGnrwvkyNSv",
        "colab_type": "code",
        "colab": {}
      },
      "source": [
        "#import spacy\n",
        "#nlp=spacy.load('en_core_web_sm')#lg large library #sm small library"
      ],
      "execution_count": 0,
      "outputs": []
    },
    {
      "cell_type": "code",
      "metadata": {
        "id": "sV1bCWD_0GYU",
        "colab_type": "code",
        "colab": {}
      },
      "source": [
        "#stopwords=nlp.Defaults.stop_words"
      ],
      "execution_count": 0,
      "outputs": []
    },
    {
      "cell_type": "code",
      "metadata": {
        "id": "Bg77bTj85Ihi",
        "colab_type": "code",
        "colab": {
          "base_uri": "https://localhost:8080/",
          "height": 34
        },
        "outputId": "6c911049-8b98-45e5-faed-eeaf72c1de5e"
      },
      "source": [
        "#len(stopwords)"
      ],
      "execution_count": 53,
      "outputs": [
        {
          "output_type": "execute_result",
          "data": {
            "text/plain": [
              "326"
            ]
          },
          "metadata": {
            "tags": []
          },
          "execution_count": 53
        }
      ]
    },
    {
      "cell_type": "code",
      "metadata": {
        "id": "lbvsPmk45sR3",
        "colab_type": "code",
        "colab": {
          "base_uri": "https://localhost:8080/",
          "height": 34
        },
        "outputId": "a9dae6b6-607d-4297-c744-c56f8aa4eabb"
      },
      "source": [
        "#nlp.vocab['@user'].is_stop"
      ],
      "execution_count": 51,
      "outputs": [
        {
          "output_type": "execute_result",
          "data": {
            "text/plain": [
              "False"
            ]
          },
          "metadata": {
            "tags": []
          },
          "execution_count": 51
        }
      ]
    },
    {
      "cell_type": "code",
      "metadata": {
        "id": "9tRPsEqL6BtF",
        "colab_type": "code",
        "colab": {}
      },
      "source": [
        "#to add a stop word\n",
        "#nlp.Defaults.stop_words.add('@user') \n",
        "#nlp.vocab['@user'].is_stop=True"
      ],
      "execution_count": 0,
      "outputs": []
    },
    {
      "cell_type": "markdown",
      "metadata": {
        "id": "YU4Vrd_4EQAd",
        "colab_type": "text"
      },
      "source": [
        "#Download the Vader Class from NLTK"
      ]
    },
    {
      "cell_type": "code",
      "metadata": {
        "id": "EnFJQXiXShG0",
        "colab_type": "code",
        "colab": {
          "base_uri": "https://localhost:8080/",
          "height": 67
        },
        "outputId": "9ffb968b-7210-48f1-f957-5b47c7e912de"
      },
      "source": [
        "import nltk\n",
        "nltk.download('vader_lexicon')"
      ],
      "execution_count": 50,
      "outputs": [
        {
          "output_type": "stream",
          "text": [
            "[nltk_data] Downloading package vader_lexicon to /root/nltk_data...\n",
            "[nltk_data]   Package vader_lexicon is already up-to-date!\n"
          ],
          "name": "stdout"
        },
        {
          "output_type": "execute_result",
          "data": {
            "text/plain": [
              "True"
            ]
          },
          "metadata": {
            "tags": []
          },
          "execution_count": 50
        }
      ]
    },
    {
      "cell_type": "markdown",
      "metadata": {
        "id": "59TD6Su4EioJ",
        "colab_type": "text"
      },
      "source": [
        "##Load the data"
      ]
    },
    {
      "cell_type": "code",
      "metadata": {
        "id": "8GIgnEivr6q5",
        "colab_type": "code",
        "colab": {}
      },
      "source": [
        "data=pd.read_csv('task_b_distant.tsv',sep='\\t')"
      ],
      "execution_count": 0,
      "outputs": []
    },
    {
      "cell_type": "markdown",
      "metadata": {
        "id": "oxsQQ0IOEqBz",
        "colab_type": "text"
      },
      "source": [
        "##Install and Import Tweet Preprocessor"
      ]
    },
    {
      "cell_type": "code",
      "metadata": {
        "id": "U4Gs7XxpBAbj",
        "colab_type": "code",
        "colab": {
          "base_uri": "https://localhost:8080/",
          "height": 188
        },
        "outputId": "3508181e-7f73-46c2-d506-71223f50074d"
      },
      "source": [
        "!pip install tweet-preprocessor"
      ],
      "execution_count": 112,
      "outputs": [
        {
          "output_type": "stream",
          "text": [
            "Collecting tweet-preprocessor\n",
            "  Downloading https://files.pythonhosted.org/packages/2a/f8/810ec35c31cca89bc4f1a02c14b042b9ec6c19dd21f7ef1876874ef069a6/tweet-preprocessor-0.5.0.tar.gz\n",
            "Building wheels for collected packages: tweet-preprocessor\n",
            "  Building wheel for tweet-preprocessor (setup.py) ... \u001b[?25l\u001b[?25hdone\n",
            "  Created wheel for tweet-preprocessor: filename=tweet_preprocessor-0.5.0-cp36-none-any.whl size=7947 sha256=084ddabd2abc46a1d62968f24a8630199768a42c66c361e9bb35f2f9350d0315\n",
            "  Stored in directory: /root/.cache/pip/wheels/1b/27/cc/49938e98a2470802ebdefae9d2b3f524768e970c1ebbe2dc4a\n",
            "Successfully built tweet-preprocessor\n",
            "Installing collected packages: tweet-preprocessor\n",
            "Successfully installed tweet-preprocessor-0.5.0\n"
          ],
          "name": "stdout"
        }
      ]
    },
    {
      "cell_type": "code",
      "metadata": {
        "id": "4cE1hh-vBJxS",
        "colab_type": "code",
        "colab": {}
      },
      "source": [
        "import preprocessor as p"
      ],
      "execution_count": 0,
      "outputs": []
    },
    {
      "cell_type": "markdown",
      "metadata": {
        "id": "lhLT3ZSjE0VG",
        "colab_type": "text"
      },
      "source": [
        "##Clean the tweet in the imported data using preprocessor"
      ]
    },
    {
      "cell_type": "code",
      "metadata": {
        "id": "I3EK8o94B_uN",
        "colab_type": "code",
        "colab": {
          "base_uri": "https://localhost:8080/",
          "height": 34
        },
        "outputId": "60721efe-7ca8-416c-c22b-4f661850ddad"
      },
      "source": [
        "p.clean(data.loc[0]['text'])"
      ],
      "execution_count": 114,
      "outputs": [
        {
          "output_type": "execute_result",
          "data": {
            "text/plain": [
              "'His ass need to stay up'"
            ]
          },
          "metadata": {
            "tags": []
          },
          "execution_count": 114
        }
      ]
    },
    {
      "cell_type": "code",
      "metadata": {
        "id": "rA9cnBf2CXei",
        "colab_type": "code",
        "colab": {
          "base_uri": "https://localhost:8080/",
          "height": 380
        },
        "outputId": "9940d6c9-eae5-44e3-ab18-7dea4cd4513a"
      },
      "source": [
        "data['cleaned_tweet']=data['text'].apply(lambda text:p.clean(text))\n",
        "data.head()"
      ],
      "execution_count": 115,
      "outputs": [
        {
          "output_type": "execute_result",
          "data": {
            "text/html": [
              "<div>\n",
              "<style scoped>\n",
              "    .dataframe tbody tr th:only-of-type {\n",
              "        vertical-align: middle;\n",
              "    }\n",
              "\n",
              "    .dataframe tbody tr th {\n",
              "        vertical-align: top;\n",
              "    }\n",
              "\n",
              "    .dataframe thead th {\n",
              "        text-align: right;\n",
              "    }\n",
              "</style>\n",
              "<table border=\"1\" class=\"dataframe\">\n",
              "  <thead>\n",
              "    <tr style=\"text-align: right;\">\n",
              "      <th></th>\n",
              "      <th>id</th>\n",
              "      <th>text</th>\n",
              "      <th>average</th>\n",
              "      <th>std</th>\n",
              "      <th>scores</th>\n",
              "      <th>label</th>\n",
              "      <th>class</th>\n",
              "      <th>cleaned_tweet</th>\n",
              "    </tr>\n",
              "  </thead>\n",
              "  <tbody>\n",
              "    <tr>\n",
              "      <th>0</th>\n",
              "      <td>1159533703758061570</td>\n",
              "      <td>@USER His ass need to stay up 😂😂</td>\n",
              "      <td>0.176201</td>\n",
              "      <td>0.267800</td>\n",
              "      <td>{'neg': 0.333, 'neu': 0.667, 'pos': 0.0, 'comp...</td>\n",
              "      <td>-0.5423</td>\n",
              "      <td>off</td>\n",
              "      <td>His ass need to stay up</td>\n",
              "    </tr>\n",
              "    <tr>\n",
              "      <th>1</th>\n",
              "      <td>1159533712079503361</td>\n",
              "      <td>@USER Trump is a fucking idiot his dementia is...</td>\n",
              "      <td>0.173800</td>\n",
              "      <td>0.239891</td>\n",
              "      <td>{'neg': 0.456, 'neu': 0.544, 'pos': 0.0, 'comp...</td>\n",
              "      <td>-0.7713</td>\n",
              "      <td>off</td>\n",
              "      <td>Trump is a fucking idiot his dementia is getti...</td>\n",
              "    </tr>\n",
              "    <tr>\n",
              "      <th>2</th>\n",
              "      <td>1159533713044234241</td>\n",
              "      <td>@USER HELL YES! His grinned and thumbs up are ...</td>\n",
              "      <td>0.199833</td>\n",
              "      <td>0.212598</td>\n",
              "      <td>{'neg': 0.447, 'neu': 0.288, 'pos': 0.265, 'co...</td>\n",
              "      <td>-0.6988</td>\n",
              "      <td>off</td>\n",
              "      <td>HELL YES! His grinned and thumbs up are disgus...</td>\n",
              "    </tr>\n",
              "    <tr>\n",
              "      <th>3</th>\n",
              "      <td>1159533718345830400</td>\n",
              "      <td>@USER Can't wait to see the shit show his deat...</td>\n",
              "      <td>0.144666</td>\n",
              "      <td>0.235204</td>\n",
              "      <td>{'neg': 0.218, 'neu': 0.559, 'pos': 0.223, 'co...</td>\n",
              "      <td>0.0258</td>\n",
              "      <td>not</td>\n",
              "      <td>Can't wait to see the shit show his death will...</td>\n",
              "    </tr>\n",
              "    <tr>\n",
              "      <th>4</th>\n",
              "      <td>1159533739871002625</td>\n",
              "      <td>@USER @USER @USER This guys is dumb check his ...</td>\n",
              "      <td>0.116019</td>\n",
              "      <td>0.186851</td>\n",
              "      <td>{'neg': 0.355, 'neu': 0.645, 'pos': 0.0, 'comp...</td>\n",
              "      <td>-0.7650</td>\n",
              "      <td>off</td>\n",
              "      <td>This guys is dumb check his latest tweets he i...</td>\n",
              "    </tr>\n",
              "  </tbody>\n",
              "</table>\n",
              "</div>"
            ],
            "text/plain": [
              "                    id  ...                                      cleaned_tweet\n",
              "0  1159533703758061570  ...                            His ass need to stay up\n",
              "1  1159533712079503361  ...  Trump is a fucking idiot his dementia is getti...\n",
              "2  1159533713044234241  ...  HELL YES! His grinned and thumbs up are disgus...\n",
              "3  1159533718345830400  ...  Can't wait to see the shit show his death will...\n",
              "4  1159533739871002625  ...  This guys is dumb check his latest tweets he i...\n",
              "\n",
              "[5 rows x 8 columns]"
            ]
          },
          "metadata": {
            "tags": []
          },
          "execution_count": 115
        }
      ]
    },
    {
      "cell_type": "markdown",
      "metadata": {
        "id": "4lFHvT5PFADt",
        "colab_type": "text"
      },
      "source": [
        "##Use the vader class to calculate the polarity scores for the cleaned tweets"
      ]
    },
    {
      "cell_type": "code",
      "metadata": {
        "id": "wKBNoqy5UQuv",
        "colab_type": "code",
        "colab": {}
      },
      "source": [
        "from nltk.sentiment.vader import SentimentIntensityAnalyzer\n",
        "sid = SentimentIntensityAnalyzer()\n"
      ],
      "execution_count": 0,
      "outputs": []
    },
    {
      "cell_type": "code",
      "metadata": {
        "id": "A3U-xQA4VjOv",
        "colab_type": "code",
        "colab": {
          "base_uri": "https://localhost:8080/",
          "height": 34
        },
        "outputId": "7ea34af0-4873-4e2c-da32-12931e4e4c8c"
      },
      "source": [
        "sid.polarity_scores(data.loc[15]['text'])"
      ],
      "execution_count": 13,
      "outputs": [
        {
          "output_type": "execute_result",
          "data": {
            "text/plain": [
              "{'compound': -0.802, 'neg': 0.31, 'neu': 0.69, 'pos': 0.0}"
            ]
          },
          "metadata": {
            "tags": []
          },
          "execution_count": 13
        }
      ]
    },
    {
      "cell_type": "code",
      "metadata": {
        "id": "ghUghEJXV60Q",
        "colab_type": "code",
        "colab": {
          "base_uri": "https://localhost:8080/",
          "height": 380
        },
        "outputId": "fab95bd6-01d3-45ee-fcb2-14aa6ae4c64b"
      },
      "source": [
        "data['scores']=data['cleaned_tweet'].apply(lambda text:sid.polarity_scores(text))\n",
        "data.head()"
      ],
      "execution_count": 116,
      "outputs": [
        {
          "output_type": "execute_result",
          "data": {
            "text/html": [
              "<div>\n",
              "<style scoped>\n",
              "    .dataframe tbody tr th:only-of-type {\n",
              "        vertical-align: middle;\n",
              "    }\n",
              "\n",
              "    .dataframe tbody tr th {\n",
              "        vertical-align: top;\n",
              "    }\n",
              "\n",
              "    .dataframe thead th {\n",
              "        text-align: right;\n",
              "    }\n",
              "</style>\n",
              "<table border=\"1\" class=\"dataframe\">\n",
              "  <thead>\n",
              "    <tr style=\"text-align: right;\">\n",
              "      <th></th>\n",
              "      <th>id</th>\n",
              "      <th>text</th>\n",
              "      <th>average</th>\n",
              "      <th>std</th>\n",
              "      <th>scores</th>\n",
              "      <th>label</th>\n",
              "      <th>class</th>\n",
              "      <th>cleaned_tweet</th>\n",
              "    </tr>\n",
              "  </thead>\n",
              "  <tbody>\n",
              "    <tr>\n",
              "      <th>0</th>\n",
              "      <td>1159533703758061570</td>\n",
              "      <td>@USER His ass need to stay up 😂😂</td>\n",
              "      <td>0.176201</td>\n",
              "      <td>0.267800</td>\n",
              "      <td>{'neg': 0.412, 'neu': 0.588, 'pos': 0.0, 'comp...</td>\n",
              "      <td>-0.5423</td>\n",
              "      <td>off</td>\n",
              "      <td>His ass need to stay up</td>\n",
              "    </tr>\n",
              "    <tr>\n",
              "      <th>1</th>\n",
              "      <td>1159533712079503361</td>\n",
              "      <td>@USER Trump is a fucking idiot his dementia is...</td>\n",
              "      <td>0.173800</td>\n",
              "      <td>0.239891</td>\n",
              "      <td>{'neg': 0.489, 'neu': 0.511, 'pos': 0.0, 'comp...</td>\n",
              "      <td>-0.7713</td>\n",
              "      <td>off</td>\n",
              "      <td>Trump is a fucking idiot his dementia is getti...</td>\n",
              "    </tr>\n",
              "    <tr>\n",
              "      <th>2</th>\n",
              "      <td>1159533713044234241</td>\n",
              "      <td>@USER HELL YES! His grinned and thumbs up are ...</td>\n",
              "      <td>0.199833</td>\n",
              "      <td>0.212598</td>\n",
              "      <td>{'neg': 0.469, 'neu': 0.252, 'pos': 0.279, 'co...</td>\n",
              "      <td>-0.6988</td>\n",
              "      <td>off</td>\n",
              "      <td>HELL YES! His grinned and thumbs up are disgus...</td>\n",
              "    </tr>\n",
              "    <tr>\n",
              "      <th>3</th>\n",
              "      <td>1159533718345830400</td>\n",
              "      <td>@USER Can't wait to see the shit show his deat...</td>\n",
              "      <td>0.144666</td>\n",
              "      <td>0.235204</td>\n",
              "      <td>{'neg': 0.231, 'neu': 0.533, 'pos': 0.237, 'co...</td>\n",
              "      <td>0.0258</td>\n",
              "      <td>not</td>\n",
              "      <td>Can't wait to see the shit show his death will...</td>\n",
              "    </tr>\n",
              "    <tr>\n",
              "      <th>4</th>\n",
              "      <td>1159533739871002625</td>\n",
              "      <td>@USER @USER @USER This guys is dumb check his ...</td>\n",
              "      <td>0.116019</td>\n",
              "      <td>0.186851</td>\n",
              "      <td>{'neg': 0.423, 'neu': 0.577, 'pos': 0.0, 'comp...</td>\n",
              "      <td>-0.7650</td>\n",
              "      <td>off</td>\n",
              "      <td>This guys is dumb check his latest tweets he i...</td>\n",
              "    </tr>\n",
              "  </tbody>\n",
              "</table>\n",
              "</div>"
            ],
            "text/plain": [
              "                    id  ...                                      cleaned_tweet\n",
              "0  1159533703758061570  ...                            His ass need to stay up\n",
              "1  1159533712079503361  ...  Trump is a fucking idiot his dementia is getti...\n",
              "2  1159533713044234241  ...  HELL YES! His grinned and thumbs up are disgus...\n",
              "3  1159533718345830400  ...  Can't wait to see the shit show his death will...\n",
              "4  1159533739871002625  ...  This guys is dumb check his latest tweets he i...\n",
              "\n",
              "[5 rows x 8 columns]"
            ]
          },
          "metadata": {
            "tags": []
          },
          "execution_count": 116
        }
      ]
    },
    {
      "cell_type": "markdown",
      "metadata": {
        "id": "bshrINIzFPtw",
        "colab_type": "text"
      },
      "source": [
        "##Label the tweet using the compound score"
      ]
    },
    {
      "cell_type": "code",
      "metadata": {
        "id": "UICzLxrUXH5i",
        "colab_type": "code",
        "colab": {
          "base_uri": "https://localhost:8080/",
          "height": 380
        },
        "outputId": "7dadbcad-49e1-4ab6-8c28-a442b176c24c"
      },
      "source": [
        "data['label']=data['scores'].apply(lambda d:d['compound'])\n",
        "data.head()"
      ],
      "execution_count": 117,
      "outputs": [
        {
          "output_type": "execute_result",
          "data": {
            "text/html": [
              "<div>\n",
              "<style scoped>\n",
              "    .dataframe tbody tr th:only-of-type {\n",
              "        vertical-align: middle;\n",
              "    }\n",
              "\n",
              "    .dataframe tbody tr th {\n",
              "        vertical-align: top;\n",
              "    }\n",
              "\n",
              "    .dataframe thead th {\n",
              "        text-align: right;\n",
              "    }\n",
              "</style>\n",
              "<table border=\"1\" class=\"dataframe\">\n",
              "  <thead>\n",
              "    <tr style=\"text-align: right;\">\n",
              "      <th></th>\n",
              "      <th>id</th>\n",
              "      <th>text</th>\n",
              "      <th>average</th>\n",
              "      <th>std</th>\n",
              "      <th>scores</th>\n",
              "      <th>label</th>\n",
              "      <th>class</th>\n",
              "      <th>cleaned_tweet</th>\n",
              "    </tr>\n",
              "  </thead>\n",
              "  <tbody>\n",
              "    <tr>\n",
              "      <th>0</th>\n",
              "      <td>1159533703758061570</td>\n",
              "      <td>@USER His ass need to stay up 😂😂</td>\n",
              "      <td>0.176201</td>\n",
              "      <td>0.267800</td>\n",
              "      <td>{'neg': 0.412, 'neu': 0.588, 'pos': 0.0, 'comp...</td>\n",
              "      <td>-0.5423</td>\n",
              "      <td>off</td>\n",
              "      <td>His ass need to stay up</td>\n",
              "    </tr>\n",
              "    <tr>\n",
              "      <th>1</th>\n",
              "      <td>1159533712079503361</td>\n",
              "      <td>@USER Trump is a fucking idiot his dementia is...</td>\n",
              "      <td>0.173800</td>\n",
              "      <td>0.239891</td>\n",
              "      <td>{'neg': 0.489, 'neu': 0.511, 'pos': 0.0, 'comp...</td>\n",
              "      <td>-0.7713</td>\n",
              "      <td>off</td>\n",
              "      <td>Trump is a fucking idiot his dementia is getti...</td>\n",
              "    </tr>\n",
              "    <tr>\n",
              "      <th>2</th>\n",
              "      <td>1159533713044234241</td>\n",
              "      <td>@USER HELL YES! His grinned and thumbs up are ...</td>\n",
              "      <td>0.199833</td>\n",
              "      <td>0.212598</td>\n",
              "      <td>{'neg': 0.469, 'neu': 0.252, 'pos': 0.279, 'co...</td>\n",
              "      <td>-0.6988</td>\n",
              "      <td>off</td>\n",
              "      <td>HELL YES! His grinned and thumbs up are disgus...</td>\n",
              "    </tr>\n",
              "    <tr>\n",
              "      <th>3</th>\n",
              "      <td>1159533718345830400</td>\n",
              "      <td>@USER Can't wait to see the shit show his deat...</td>\n",
              "      <td>0.144666</td>\n",
              "      <td>0.235204</td>\n",
              "      <td>{'neg': 0.231, 'neu': 0.533, 'pos': 0.237, 'co...</td>\n",
              "      <td>0.0258</td>\n",
              "      <td>not</td>\n",
              "      <td>Can't wait to see the shit show his death will...</td>\n",
              "    </tr>\n",
              "    <tr>\n",
              "      <th>4</th>\n",
              "      <td>1159533739871002625</td>\n",
              "      <td>@USER @USER @USER This guys is dumb check his ...</td>\n",
              "      <td>0.116019</td>\n",
              "      <td>0.186851</td>\n",
              "      <td>{'neg': 0.423, 'neu': 0.577, 'pos': 0.0, 'comp...</td>\n",
              "      <td>-0.7650</td>\n",
              "      <td>off</td>\n",
              "      <td>This guys is dumb check his latest tweets he i...</td>\n",
              "    </tr>\n",
              "  </tbody>\n",
              "</table>\n",
              "</div>"
            ],
            "text/plain": [
              "                    id  ...                                      cleaned_tweet\n",
              "0  1159533703758061570  ...                            His ass need to stay up\n",
              "1  1159533712079503361  ...  Trump is a fucking idiot his dementia is getti...\n",
              "2  1159533713044234241  ...  HELL YES! His grinned and thumbs up are disgus...\n",
              "3  1159533718345830400  ...  Can't wait to see the shit show his death will...\n",
              "4  1159533739871002625  ...  This guys is dumb check his latest tweets he i...\n",
              "\n",
              "[5 rows x 8 columns]"
            ]
          },
          "metadata": {
            "tags": []
          },
          "execution_count": 117
        }
      ]
    },
    {
      "cell_type": "code",
      "metadata": {
        "id": "IkE8eVokXgku",
        "colab_type": "code",
        "colab": {
          "base_uri": "https://localhost:8080/",
          "height": 380
        },
        "outputId": "6023879e-c342-4423-e14a-a5f663dc961f"
      },
      "source": [
        "data['class']=data['label'].apply(lambda c:'not' if c>=0 else 'off')\n",
        "data.head()"
      ],
      "execution_count": 118,
      "outputs": [
        {
          "output_type": "execute_result",
          "data": {
            "text/html": [
              "<div>\n",
              "<style scoped>\n",
              "    .dataframe tbody tr th:only-of-type {\n",
              "        vertical-align: middle;\n",
              "    }\n",
              "\n",
              "    .dataframe tbody tr th {\n",
              "        vertical-align: top;\n",
              "    }\n",
              "\n",
              "    .dataframe thead th {\n",
              "        text-align: right;\n",
              "    }\n",
              "</style>\n",
              "<table border=\"1\" class=\"dataframe\">\n",
              "  <thead>\n",
              "    <tr style=\"text-align: right;\">\n",
              "      <th></th>\n",
              "      <th>id</th>\n",
              "      <th>text</th>\n",
              "      <th>average</th>\n",
              "      <th>std</th>\n",
              "      <th>scores</th>\n",
              "      <th>label</th>\n",
              "      <th>class</th>\n",
              "      <th>cleaned_tweet</th>\n",
              "    </tr>\n",
              "  </thead>\n",
              "  <tbody>\n",
              "    <tr>\n",
              "      <th>0</th>\n",
              "      <td>1159533703758061570</td>\n",
              "      <td>@USER His ass need to stay up 😂😂</td>\n",
              "      <td>0.176201</td>\n",
              "      <td>0.267800</td>\n",
              "      <td>{'neg': 0.412, 'neu': 0.588, 'pos': 0.0, 'comp...</td>\n",
              "      <td>-0.5423</td>\n",
              "      <td>off</td>\n",
              "      <td>His ass need to stay up</td>\n",
              "    </tr>\n",
              "    <tr>\n",
              "      <th>1</th>\n",
              "      <td>1159533712079503361</td>\n",
              "      <td>@USER Trump is a fucking idiot his dementia is...</td>\n",
              "      <td>0.173800</td>\n",
              "      <td>0.239891</td>\n",
              "      <td>{'neg': 0.489, 'neu': 0.511, 'pos': 0.0, 'comp...</td>\n",
              "      <td>-0.7713</td>\n",
              "      <td>off</td>\n",
              "      <td>Trump is a fucking idiot his dementia is getti...</td>\n",
              "    </tr>\n",
              "    <tr>\n",
              "      <th>2</th>\n",
              "      <td>1159533713044234241</td>\n",
              "      <td>@USER HELL YES! His grinned and thumbs up are ...</td>\n",
              "      <td>0.199833</td>\n",
              "      <td>0.212598</td>\n",
              "      <td>{'neg': 0.469, 'neu': 0.252, 'pos': 0.279, 'co...</td>\n",
              "      <td>-0.6988</td>\n",
              "      <td>off</td>\n",
              "      <td>HELL YES! His grinned and thumbs up are disgus...</td>\n",
              "    </tr>\n",
              "    <tr>\n",
              "      <th>3</th>\n",
              "      <td>1159533718345830400</td>\n",
              "      <td>@USER Can't wait to see the shit show his deat...</td>\n",
              "      <td>0.144666</td>\n",
              "      <td>0.235204</td>\n",
              "      <td>{'neg': 0.231, 'neu': 0.533, 'pos': 0.237, 'co...</td>\n",
              "      <td>0.0258</td>\n",
              "      <td>not</td>\n",
              "      <td>Can't wait to see the shit show his death will...</td>\n",
              "    </tr>\n",
              "    <tr>\n",
              "      <th>4</th>\n",
              "      <td>1159533739871002625</td>\n",
              "      <td>@USER @USER @USER This guys is dumb check his ...</td>\n",
              "      <td>0.116019</td>\n",
              "      <td>0.186851</td>\n",
              "      <td>{'neg': 0.423, 'neu': 0.577, 'pos': 0.0, 'comp...</td>\n",
              "      <td>-0.7650</td>\n",
              "      <td>off</td>\n",
              "      <td>This guys is dumb check his latest tweets he i...</td>\n",
              "    </tr>\n",
              "  </tbody>\n",
              "</table>\n",
              "</div>"
            ],
            "text/plain": [
              "                    id  ...                                      cleaned_tweet\n",
              "0  1159533703758061570  ...                            His ass need to stay up\n",
              "1  1159533712079503361  ...  Trump is a fucking idiot his dementia is getti...\n",
              "2  1159533713044234241  ...  HELL YES! His grinned and thumbs up are disgus...\n",
              "3  1159533718345830400  ...  Can't wait to see the shit show his death will...\n",
              "4  1159533739871002625  ...  This guys is dumb check his latest tweets he i...\n",
              "\n",
              "[5 rows x 8 columns]"
            ]
          },
          "metadata": {
            "tags": []
          },
          "execution_count": 118
        }
      ]
    },
    {
      "cell_type": "markdown",
      "metadata": {
        "id": "fxnH76OJFb2v",
        "colab_type": "text"
      },
      "source": [
        "##Check for any Null texts"
      ]
    },
    {
      "cell_type": "code",
      "metadata": {
        "id": "i1FhWFbDskti",
        "colab_type": "code",
        "outputId": "56c5ad62-a6ce-45df-90fa-d9e124651ef0",
        "colab": {
          "base_uri": "https://localhost:8080/",
          "height": 151
        }
      },
      "source": [
        "data.isnull().sum()"
      ],
      "execution_count": 20,
      "outputs": [
        {
          "output_type": "execute_result",
          "data": {
            "text/plain": [
              "id         0\n",
              "text       0\n",
              "average    0\n",
              "std        0\n",
              "scores     0\n",
              "label      0\n",
              "class      0\n",
              "dtype: int64"
            ]
          },
          "metadata": {
            "tags": []
          },
          "execution_count": 20
        }
      ]
    },
    {
      "cell_type": "markdown",
      "metadata": {
        "id": "YHhtIwWPFjYo",
        "colab_type": "text"
      },
      "source": [
        "##Check for blanks"
      ]
    },
    {
      "cell_type": "code",
      "metadata": {
        "id": "oENIiLVEsq_p",
        "colab_type": "code",
        "colab": {}
      },
      "source": [
        "blanks=[]\n",
        "for i,j,text,avg,std in data.itertuples():\n",
        "  if type(text)==str:\n",
        "    if text.isspace():\n",
        "      blanks.append(i)\n",
        "print(len(blanks))"
      ],
      "execution_count": 0,
      "outputs": []
    },
    {
      "cell_type": "code",
      "metadata": {
        "id": "-eXimVSl0jjG",
        "colab_type": "code",
        "colab": {}
      },
      "source": [
        "#data['label']=\"not\"\n",
        "#data.loc[data['average']>0.20,'label']=\"off\"\n"
      ],
      "execution_count": 0,
      "outputs": []
    },
    {
      "cell_type": "code",
      "metadata": {
        "id": "sK4IHVyz19r6",
        "colab_type": "code",
        "outputId": "30ec60bc-fad4-4a76-d1e2-b4e3387fc026",
        "colab": {
          "base_uri": "https://localhost:8080/",
          "height": 67
        }
      },
      "source": [
        "data['class'].value_counts()"
      ],
      "execution_count": 119,
      "outputs": [
        {
          "output_type": "execute_result",
          "data": {
            "text/plain": [
              "off    161621\n",
              "not     27106\n",
              "Name: class, dtype: int64"
            ]
          },
          "metadata": {
            "tags": []
          },
          "execution_count": 119
        }
      ]
    },
    {
      "cell_type": "markdown",
      "metadata": {
        "id": "_pELCpjQFroE",
        "colab_type": "text"
      },
      "source": [
        "#Training and test split "
      ]
    },
    {
      "cell_type": "code",
      "metadata": {
        "id": "deeyS4Ei24Qb",
        "colab_type": "code",
        "colab": {}
      },
      "source": [
        "from sklearn.model_selection import train_test_split\n",
        "X=data['cleaned_tweet']\n",
        "y=data['class']\n",
        "X_train,X_test,y_train,y_test=train_test_split(X,y,test_size=0.20)"
      ],
      "execution_count": 0,
      "outputs": []
    },
    {
      "cell_type": "markdown",
      "metadata": {
        "id": "VdlNt5l8FvzH",
        "colab_type": "text"
      },
      "source": [
        "##Building a Naive bayes and Linear SVM model "
      ]
    },
    {
      "cell_type": "code",
      "metadata": {
        "id": "FUeeBIMZ8W8B",
        "colab_type": "code",
        "colab": {}
      },
      "source": [
        "from sklearn.pipeline import Pipeline\n",
        "from sklearn.feature_extraction.text import TfidfVectorizer\n",
        "from sklearn.naive_bayes import MultinomialNB\n",
        "from sklearn.svm import LinearSVC\n",
        "\n",
        "#text_cls_nb=Pipeline([('tfidf',TfidfVectorizer(stop_words='english')),('clf',MultinomialNB()),])\n",
        "text_cls_svm=Pipeline([('tfidf',TfidfVectorizer(stop_words='english')),('clf',LinearSVC()),])"
      ],
      "execution_count": 0,
      "outputs": []
    },
    {
      "cell_type": "markdown",
      "metadata": {
        "id": "D4bqRFzpF6rM",
        "colab_type": "text"
      },
      "source": [
        "##Fit the model with the train data"
      ]
    },
    {
      "cell_type": "code",
      "metadata": {
        "id": "H3u6yXay9YzK",
        "colab_type": "code",
        "outputId": "4e1509ad-8c9e-4834-b9f6-20832007f5bc",
        "colab": {
          "base_uri": "https://localhost:8080/",
          "height": 370
        }
      },
      "source": [
        "#text_cls_nb.fit(X_train,y_train)\n",
        "text_cls_svm.fit(X_train,y_train)"
      ],
      "execution_count": 122,
      "outputs": [
        {
          "output_type": "execute_result",
          "data": {
            "text/plain": [
              "Pipeline(memory=None,\n",
              "         steps=[('tfidf',\n",
              "                 TfidfVectorizer(analyzer='word', binary=False,\n",
              "                                 decode_error='strict',\n",
              "                                 dtype=<class 'numpy.float64'>,\n",
              "                                 encoding='utf-8', input='content',\n",
              "                                 lowercase=True, max_df=1.0, max_features=None,\n",
              "                                 min_df=1, ngram_range=(1, 1), norm='l2',\n",
              "                                 preprocessor=None, smooth_idf=True,\n",
              "                                 stop_words='english', strip_accents=None,\n",
              "                                 sublinear_tf=False,\n",
              "                                 token_pattern='(?u)\\\\b\\\\w\\\\w+\\\\b',\n",
              "                                 tokenizer=None, use_idf=True,\n",
              "                                 vocabulary=None)),\n",
              "                ('clf',\n",
              "                 LinearSVC(C=1.0, class_weight=None, dual=True,\n",
              "                           fit_intercept=True, intercept_scaling=1,\n",
              "                           loss='squared_hinge', max_iter=1000,\n",
              "                           multi_class='ovr', penalty='l2', random_state=None,\n",
              "                           tol=0.0001, verbose=0))],\n",
              "         verbose=False)"
            ]
          },
          "metadata": {
            "tags": []
          },
          "execution_count": 122
        }
      ]
    },
    {
      "cell_type": "markdown",
      "metadata": {
        "id": "13bWGXmAF_9b",
        "colab_type": "text"
      },
      "source": [
        "##Prediction, Confusion Matrix and Classification Report"
      ]
    },
    {
      "cell_type": "code",
      "metadata": {
        "id": "mOMdDBId9gsk",
        "colab_type": "code",
        "colab": {}
      },
      "source": [
        "#prediction=text_cls_nb.predict(X_test)\n",
        "prediction=text_cls_svm.predict(X_test)"
      ],
      "execution_count": 0,
      "outputs": []
    },
    {
      "cell_type": "code",
      "metadata": {
        "id": "ohwrVVWt9oRV",
        "colab_type": "code",
        "outputId": "59595773-2a03-4029-bc89-70d23918427a",
        "colab": {
          "base_uri": "https://localhost:8080/",
          "height": 50
        }
      },
      "source": [
        "from sklearn import metrics\n",
        "print(metrics.confusion_matrix(y_test,prediction))"
      ],
      "execution_count": 124,
      "outputs": [
        {
          "output_type": "stream",
          "text": [
            "[[ 2306  3002]\n",
            " [  862 31576]]\n"
          ],
          "name": "stdout"
        }
      ]
    },
    {
      "cell_type": "code",
      "metadata": {
        "id": "XHkZSjHq92Zk",
        "colab_type": "code",
        "outputId": "df2b103a-f97b-4c39-af77-8a93c7fd4aaf",
        "colab": {
          "base_uri": "https://localhost:8080/",
          "height": 168
        }
      },
      "source": [
        "print(metrics.classification_report(y_test,prediction))"
      ],
      "execution_count": 125,
      "outputs": [
        {
          "output_type": "stream",
          "text": [
            "              precision    recall  f1-score   support\n",
            "\n",
            "         not       0.73      0.43      0.54      5308\n",
            "         off       0.91      0.97      0.94     32438\n",
            "\n",
            "    accuracy                           0.90     37746\n",
            "   macro avg       0.82      0.70      0.74     37746\n",
            "weighted avg       0.89      0.90      0.89     37746\n",
            "\n"
          ],
          "name": "stdout"
        }
      ]
    },
    {
      "cell_type": "code",
      "metadata": {
        "id": "FqOvTYCe989C",
        "colab_type": "code",
        "outputId": "73d33e38-0fd3-429a-aaef-6f046b9e87dd",
        "colab": {
          "base_uri": "https://localhost:8080/",
          "height": 34
        }
      },
      "source": [
        "print(metrics.accuracy_score(y_test,prediction))"
      ],
      "execution_count": 126,
      "outputs": [
        {
          "output_type": "stream",
          "text": [
            "0.8976315371165157\n"
          ],
          "name": "stdout"
        }
      ]
    },
    {
      "cell_type": "code",
      "metadata": {
        "id": "U2KPcQEv-HIP",
        "colab_type": "code",
        "outputId": "7c9e7aba-b930-47f0-dbe5-417b20c3f4ce",
        "colab": {
          "base_uri": "https://localhost:8080/",
          "height": 34
        }
      },
      "source": [
        "print(text_cls_svm.predict(['I love him , he is so awesome']))"
      ],
      "execution_count": 127,
      "outputs": [
        {
          "output_type": "stream",
          "text": [
            "['not']\n"
          ],
          "name": "stdout"
        }
      ]
    },
    {
      "cell_type": "code",
      "metadata": {
        "id": "4x1guF9280tW",
        "colab_type": "code",
        "colab": {
          "base_uri": "https://localhost:8080/",
          "height": 34
        },
        "outputId": "96fca8aa-4529-4b8b-ec13-8c5c8dd1f36f"
      },
      "source": [
        "print(text_cls_svm.predict(['What the fuck?']))"
      ],
      "execution_count": 128,
      "outputs": [
        {
          "output_type": "stream",
          "text": [
            "['off']\n"
          ],
          "name": "stdout"
        }
      ]
    },
    {
      "cell_type": "code",
      "metadata": {
        "id": "ng9q2rq09zW1",
        "colab_type": "code",
        "colab": {}
      },
      "source": [
        ""
      ],
      "execution_count": 0,
      "outputs": []
    }
  ]
}