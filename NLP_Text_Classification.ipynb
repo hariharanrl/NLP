{
  "nbformat": 4,
  "nbformat_minor": 0,
  "metadata": {
    "colab": {
      "name": "NLP Text Classification.ipynb",
      "provenance": [],
      "collapsed_sections": [],
      "mount_file_id": "1HlAn3Ii3MdgbJLhgJ5uO17kqg24VKLKI",
      "authorship_tag": "ABX9TyNq3QZ+q+C2Ko15MA+RKfd0",
      "include_colab_link": true
    },
    "kernelspec": {
      "name": "python3",
      "display_name": "Python 3"
    }
  },
  "cells": [
    {
      "cell_type": "markdown",
      "metadata": {
        "id": "view-in-github",
        "colab_type": "text"
      },
      "source": [
        "<a href=\"https://colab.research.google.com/github/hariharanrl/NLP/blob/master/NLP_Text_Classification.ipynb\" target=\"_parent\"><img src=\"https://colab.research.google.com/assets/colab-badge.svg\" alt=\"Open In Colab\"/></a>"
      ]
    },
    {
      "cell_type": "markdown",
      "metadata": {
        "id": "-laMtDSWD-wN",
        "colab_type": "text"
      },
      "source": [
        "#Mount Google Drive"
      ]
    },
    {
      "cell_type": "code",
      "metadata": {
        "id": "En_DXeBrqhxU",
        "colab_type": "code",
        "colab": {}
      },
      "source": [
        "import pandas as pd\n",
        "import os\n",
        "os.chdir('/content/drive/My Drive')"
      ],
      "execution_count": 0,
      "outputs": []
    },
    {
      "cell_type": "markdown",
      "metadata": {
        "id": "2Va_41pyEJEH",
        "colab_type": "text"
      },
      "source": [
        "#Spacy (Not needed)"
      ]
    },
    {
      "cell_type": "code",
      "metadata": {
        "id": "trGnrwvkyNSv",
        "colab_type": "code",
        "colab": {}
      },
      "source": [
        "#import spacy\n",
        "#nlp=spacy.load('en_core_web_sm')#lg large library #sm small library"
      ],
      "execution_count": 0,
      "outputs": []
    },
    {
      "cell_type": "code",
      "metadata": {
        "id": "sV1bCWD_0GYU",
        "colab_type": "code",
        "colab": {}
      },
      "source": [
        "#stopwords=nlp.Defaults.stop_words"
      ],
      "execution_count": 0,
      "outputs": []
    },
    {
      "cell_type": "code",
      "metadata": {
        "id": "Bg77bTj85Ihi",
        "colab_type": "code",
        "outputId": "6c911049-8b98-45e5-faed-eeaf72c1de5e",
        "colab": {
          "base_uri": "https://localhost:8080/",
          "height": 34
        }
      },
      "source": [
        "#len(stopwords)"
      ],
      "execution_count": 0,
      "outputs": [
        {
          "output_type": "execute_result",
          "data": {
            "text/plain": [
              "326"
            ]
          },
          "metadata": {
            "tags": []
          },
          "execution_count": 53
        }
      ]
    },
    {
      "cell_type": "code",
      "metadata": {
        "id": "lbvsPmk45sR3",
        "colab_type": "code",
        "outputId": "a9dae6b6-607d-4297-c744-c56f8aa4eabb",
        "colab": {
          "base_uri": "https://localhost:8080/",
          "height": 34
        }
      },
      "source": [
        "#nlp.vocab['@user'].is_stop"
      ],
      "execution_count": 0,
      "outputs": [
        {
          "output_type": "execute_result",
          "data": {
            "text/plain": [
              "False"
            ]
          },
          "metadata": {
            "tags": []
          },
          "execution_count": 51
        }
      ]
    },
    {
      "cell_type": "code",
      "metadata": {
        "id": "9tRPsEqL6BtF",
        "colab_type": "code",
        "colab": {}
      },
      "source": [
        "#to add a stop word\n",
        "#nlp.Defaults.stop_words.add('@user') \n",
        "#nlp.vocab['@user'].is_stop=True"
      ],
      "execution_count": 0,
      "outputs": []
    },
    {
      "cell_type": "markdown",
      "metadata": {
        "id": "YU4Vrd_4EQAd",
        "colab_type": "text"
      },
      "source": [
        "#Download the Vader Class from NLTK"
      ]
    },
    {
      "cell_type": "code",
      "metadata": {
        "id": "EnFJQXiXShG0",
        "colab_type": "code",
        "outputId": "dd1db53a-ee09-4148-b2c8-ba6a6b45e050",
        "colab": {
          "base_uri": "https://localhost:8080/",
          "height": 50
        }
      },
      "source": [
        "import nltk\n",
        "nltk.download('vader_lexicon')"
      ],
      "execution_count": 2,
      "outputs": [
        {
          "output_type": "stream",
          "text": [
            "[nltk_data] Downloading package vader_lexicon to /root/nltk_data...\n"
          ],
          "name": "stdout"
        },
        {
          "output_type": "execute_result",
          "data": {
            "text/plain": [
              "True"
            ]
          },
          "metadata": {
            "tags": []
          },
          "execution_count": 2
        }
      ]
    },
    {
      "cell_type": "markdown",
      "metadata": {
        "id": "59TD6Su4EioJ",
        "colab_type": "text"
      },
      "source": [
        "##Load the data"
      ]
    },
    {
      "cell_type": "code",
      "metadata": {
        "id": "8GIgnEivr6q5",
        "colab_type": "code",
        "colab": {}
      },
      "source": [
        "data=pd.read_csv('task_b_distant.tsv',sep='\\t')"
      ],
      "execution_count": 0,
      "outputs": []
    },
    {
      "cell_type": "markdown",
      "metadata": {
        "id": "oxsQQ0IOEqBz",
        "colab_type": "text"
      },
      "source": [
        "##Install and Import Tweet Preprocessor"
      ]
    },
    {
      "cell_type": "code",
      "metadata": {
        "id": "U4Gs7XxpBAbj",
        "colab_type": "code",
        "outputId": "ef428574-bf5c-4f5a-b8a5-80de7a74c0dc",
        "colab": {
          "base_uri": "https://localhost:8080/",
          "height": 188
        }
      },
      "source": [
        "!pip install tweet-preprocessor"
      ],
      "execution_count": 4,
      "outputs": [
        {
          "output_type": "stream",
          "text": [
            "Collecting tweet-preprocessor\n",
            "  Downloading https://files.pythonhosted.org/packages/2a/f8/810ec35c31cca89bc4f1a02c14b042b9ec6c19dd21f7ef1876874ef069a6/tweet-preprocessor-0.5.0.tar.gz\n",
            "Building wheels for collected packages: tweet-preprocessor\n",
            "  Building wheel for tweet-preprocessor (setup.py) ... \u001b[?25l\u001b[?25hdone\n",
            "  Created wheel for tweet-preprocessor: filename=tweet_preprocessor-0.5.0-cp36-none-any.whl size=7947 sha256=6b882780ccd131454b451f7ee02b56ad253c73e13a73d82d0dd9eb931f5adcbb\n",
            "  Stored in directory: /root/.cache/pip/wheels/1b/27/cc/49938e98a2470802ebdefae9d2b3f524768e970c1ebbe2dc4a\n",
            "Successfully built tweet-preprocessor\n",
            "Installing collected packages: tweet-preprocessor\n",
            "Successfully installed tweet-preprocessor-0.5.0\n"
          ],
          "name": "stdout"
        }
      ]
    },
    {
      "cell_type": "code",
      "metadata": {
        "id": "4cE1hh-vBJxS",
        "colab_type": "code",
        "colab": {}
      },
      "source": [
        "import preprocessor as p"
      ],
      "execution_count": 0,
      "outputs": []
    },
    {
      "cell_type": "markdown",
      "metadata": {
        "id": "lhLT3ZSjE0VG",
        "colab_type": "text"
      },
      "source": [
        "##Clean the tweet in the imported data using preprocessor"
      ]
    },
    {
      "cell_type": "code",
      "metadata": {
        "id": "I3EK8o94B_uN",
        "colab_type": "code",
        "outputId": "60721efe-7ca8-416c-c22b-4f661850ddad",
        "colab": {
          "base_uri": "https://localhost:8080/",
          "height": 34
        }
      },
      "source": [
        "p.clean(data.loc[0]['text'])"
      ],
      "execution_count": 0,
      "outputs": [
        {
          "output_type": "execute_result",
          "data": {
            "text/plain": [
              "'His ass need to stay up'"
            ]
          },
          "metadata": {
            "tags": []
          },
          "execution_count": 114
        }
      ]
    },
    {
      "cell_type": "code",
      "metadata": {
        "id": "rA9cnBf2CXei",
        "colab_type": "code",
        "outputId": "6554aa6f-435a-43e5-bca8-c4403bcdb49e",
        "colab": {
          "base_uri": "https://localhost:8080/",
          "height": 246
        }
      },
      "source": [
        "data['cleaned_tweet']=data['text'].apply(lambda text:p.clean(text))\n",
        "data.head()"
      ],
      "execution_count": 6,
      "outputs": [
        {
          "output_type": "execute_result",
          "data": {
            "text/html": [
              "<div>\n",
              "<style scoped>\n",
              "    .dataframe tbody tr th:only-of-type {\n",
              "        vertical-align: middle;\n",
              "    }\n",
              "\n",
              "    .dataframe tbody tr th {\n",
              "        vertical-align: top;\n",
              "    }\n",
              "\n",
              "    .dataframe thead th {\n",
              "        text-align: right;\n",
              "    }\n",
              "</style>\n",
              "<table border=\"1\" class=\"dataframe\">\n",
              "  <thead>\n",
              "    <tr style=\"text-align: right;\">\n",
              "      <th></th>\n",
              "      <th>id</th>\n",
              "      <th>text</th>\n",
              "      <th>average</th>\n",
              "      <th>std</th>\n",
              "      <th>cleaned_tweet</th>\n",
              "    </tr>\n",
              "  </thead>\n",
              "  <tbody>\n",
              "    <tr>\n",
              "      <th>0</th>\n",
              "      <td>1159533703758061570</td>\n",
              "      <td>@USER His ass need to stay up 😂😂</td>\n",
              "      <td>0.176201</td>\n",
              "      <td>0.267800</td>\n",
              "      <td>His ass need to stay up</td>\n",
              "    </tr>\n",
              "    <tr>\n",
              "      <th>1</th>\n",
              "      <td>1159533712079503361</td>\n",
              "      <td>@USER Trump is a fucking idiot his dementia is...</td>\n",
              "      <td>0.173800</td>\n",
              "      <td>0.239891</td>\n",
              "      <td>Trump is a fucking idiot his dementia is getti...</td>\n",
              "    </tr>\n",
              "    <tr>\n",
              "      <th>2</th>\n",
              "      <td>1159533713044234241</td>\n",
              "      <td>@USER HELL YES! His grinned and thumbs up are ...</td>\n",
              "      <td>0.199833</td>\n",
              "      <td>0.212598</td>\n",
              "      <td>HELL YES! His grinned and thumbs up are disgus...</td>\n",
              "    </tr>\n",
              "    <tr>\n",
              "      <th>3</th>\n",
              "      <td>1159533718345830400</td>\n",
              "      <td>@USER Can't wait to see the shit show his deat...</td>\n",
              "      <td>0.144666</td>\n",
              "      <td>0.235204</td>\n",
              "      <td>Can't wait to see the shit show his death will...</td>\n",
              "    </tr>\n",
              "    <tr>\n",
              "      <th>4</th>\n",
              "      <td>1159533739871002625</td>\n",
              "      <td>@USER @USER @USER This guys is dumb check his ...</td>\n",
              "      <td>0.116019</td>\n",
              "      <td>0.186851</td>\n",
              "      <td>This guys is dumb check his latest tweets he i...</td>\n",
              "    </tr>\n",
              "  </tbody>\n",
              "</table>\n",
              "</div>"
            ],
            "text/plain": [
              "                    id  ...                                      cleaned_tweet\n",
              "0  1159533703758061570  ...                            His ass need to stay up\n",
              "1  1159533712079503361  ...  Trump is a fucking idiot his dementia is getti...\n",
              "2  1159533713044234241  ...  HELL YES! His grinned and thumbs up are disgus...\n",
              "3  1159533718345830400  ...  Can't wait to see the shit show his death will...\n",
              "4  1159533739871002625  ...  This guys is dumb check his latest tweets he i...\n",
              "\n",
              "[5 rows x 5 columns]"
            ]
          },
          "metadata": {
            "tags": []
          },
          "execution_count": 6
        }
      ]
    },
    {
      "cell_type": "markdown",
      "metadata": {
        "id": "4lFHvT5PFADt",
        "colab_type": "text"
      },
      "source": [
        "##Use the vader class to calculate the polarity scores for the cleaned tweets"
      ]
    },
    {
      "cell_type": "code",
      "metadata": {
        "id": "wKBNoqy5UQuv",
        "colab_type": "code",
        "colab": {
          "base_uri": "https://localhost:8080/",
          "height": 70
        },
        "outputId": "8995c4c3-f2e2-4862-851e-1c12f60424f5"
      },
      "source": [
        "from nltk.sentiment.vader import SentimentIntensityAnalyzer\n",
        "sid = SentimentIntensityAnalyzer()\n"
      ],
      "execution_count": 7,
      "outputs": [
        {
          "output_type": "stream",
          "text": [
            "/usr/local/lib/python3.6/dist-packages/nltk/twitter/__init__.py:20: UserWarning: The twython library has not been installed. Some functionality from the twitter package will not be available.\n",
            "  warnings.warn(\"The twython library has not been installed. \"\n"
          ],
          "name": "stderr"
        }
      ]
    },
    {
      "cell_type": "code",
      "metadata": {
        "id": "A3U-xQA4VjOv",
        "colab_type": "code",
        "outputId": "07b8f90f-e962-4f9a-fb4f-cd3ce18e2494",
        "colab": {
          "base_uri": "https://localhost:8080/",
          "height": 34
        }
      },
      "source": [
        "sid.polarity_scores(data.loc[15]['text'])"
      ],
      "execution_count": 8,
      "outputs": [
        {
          "output_type": "execute_result",
          "data": {
            "text/plain": [
              "{'compound': -0.802, 'neg': 0.31, 'neu': 0.69, 'pos': 0.0}"
            ]
          },
          "metadata": {
            "tags": []
          },
          "execution_count": 8
        }
      ]
    },
    {
      "cell_type": "markdown",
      "metadata": {
        "id": "bshrINIzFPtw",
        "colab_type": "text"
      },
      "source": [
        "##Label the tweet using the compound score"
      ]
    },
    {
      "cell_type": "code",
      "metadata": {
        "id": "UICzLxrUXH5i",
        "colab_type": "code",
        "outputId": "72089973-24f7-41d6-f14f-45c9f86a8820",
        "colab": {
          "base_uri": "https://localhost:8080/",
          "height": 363
        }
      },
      "source": [
        "data['scores']=data['cleaned_tweet'].apply(lambda text:sid.polarity_scores(text))\n",
        "data['label']=data['scores'].apply(lambda d:d['compound'])\n",
        "data['class']=data['label'].apply(lambda c:'not' if c>=0 else 'off')\n",
        "data.head()"
      ],
      "execution_count": 9,
      "outputs": [
        {
          "output_type": "execute_result",
          "data": {
            "text/html": [
              "<div>\n",
              "<style scoped>\n",
              "    .dataframe tbody tr th:only-of-type {\n",
              "        vertical-align: middle;\n",
              "    }\n",
              "\n",
              "    .dataframe tbody tr th {\n",
              "        vertical-align: top;\n",
              "    }\n",
              "\n",
              "    .dataframe thead th {\n",
              "        text-align: right;\n",
              "    }\n",
              "</style>\n",
              "<table border=\"1\" class=\"dataframe\">\n",
              "  <thead>\n",
              "    <tr style=\"text-align: right;\">\n",
              "      <th></th>\n",
              "      <th>id</th>\n",
              "      <th>text</th>\n",
              "      <th>average</th>\n",
              "      <th>std</th>\n",
              "      <th>cleaned_tweet</th>\n",
              "      <th>scores</th>\n",
              "      <th>label</th>\n",
              "      <th>class</th>\n",
              "    </tr>\n",
              "  </thead>\n",
              "  <tbody>\n",
              "    <tr>\n",
              "      <th>0</th>\n",
              "      <td>1159533703758061570</td>\n",
              "      <td>@USER His ass need to stay up 😂😂</td>\n",
              "      <td>0.176201</td>\n",
              "      <td>0.267800</td>\n",
              "      <td>His ass need to stay up</td>\n",
              "      <td>{'neg': 0.412, 'neu': 0.588, 'pos': 0.0, 'comp...</td>\n",
              "      <td>-0.5423</td>\n",
              "      <td>off</td>\n",
              "    </tr>\n",
              "    <tr>\n",
              "      <th>1</th>\n",
              "      <td>1159533712079503361</td>\n",
              "      <td>@USER Trump is a fucking idiot his dementia is...</td>\n",
              "      <td>0.173800</td>\n",
              "      <td>0.239891</td>\n",
              "      <td>Trump is a fucking idiot his dementia is getti...</td>\n",
              "      <td>{'neg': 0.489, 'neu': 0.511, 'pos': 0.0, 'comp...</td>\n",
              "      <td>-0.7713</td>\n",
              "      <td>off</td>\n",
              "    </tr>\n",
              "    <tr>\n",
              "      <th>2</th>\n",
              "      <td>1159533713044234241</td>\n",
              "      <td>@USER HELL YES! His grinned and thumbs up are ...</td>\n",
              "      <td>0.199833</td>\n",
              "      <td>0.212598</td>\n",
              "      <td>HELL YES! His grinned and thumbs up are disgus...</td>\n",
              "      <td>{'neg': 0.469, 'neu': 0.252, 'pos': 0.279, 'co...</td>\n",
              "      <td>-0.6988</td>\n",
              "      <td>off</td>\n",
              "    </tr>\n",
              "    <tr>\n",
              "      <th>3</th>\n",
              "      <td>1159533718345830400</td>\n",
              "      <td>@USER Can't wait to see the shit show his deat...</td>\n",
              "      <td>0.144666</td>\n",
              "      <td>0.235204</td>\n",
              "      <td>Can't wait to see the shit show his death will...</td>\n",
              "      <td>{'neg': 0.231, 'neu': 0.533, 'pos': 0.237, 'co...</td>\n",
              "      <td>0.0258</td>\n",
              "      <td>not</td>\n",
              "    </tr>\n",
              "    <tr>\n",
              "      <th>4</th>\n",
              "      <td>1159533739871002625</td>\n",
              "      <td>@USER @USER @USER This guys is dumb check his ...</td>\n",
              "      <td>0.116019</td>\n",
              "      <td>0.186851</td>\n",
              "      <td>This guys is dumb check his latest tweets he i...</td>\n",
              "      <td>{'neg': 0.423, 'neu': 0.577, 'pos': 0.0, 'comp...</td>\n",
              "      <td>-0.7650</td>\n",
              "      <td>off</td>\n",
              "    </tr>\n",
              "  </tbody>\n",
              "</table>\n",
              "</div>"
            ],
            "text/plain": [
              "                    id  ... class\n",
              "0  1159533703758061570  ...   off\n",
              "1  1159533712079503361  ...   off\n",
              "2  1159533713044234241  ...   off\n",
              "3  1159533718345830400  ...   not\n",
              "4  1159533739871002625  ...   off\n",
              "\n",
              "[5 rows x 8 columns]"
            ]
          },
          "metadata": {
            "tags": []
          },
          "execution_count": 9
        }
      ]
    },
    {
      "cell_type": "markdown",
      "metadata": {
        "id": "fxnH76OJFb2v",
        "colab_type": "text"
      },
      "source": [
        "##Check for any Null texts"
      ]
    },
    {
      "cell_type": "code",
      "metadata": {
        "id": "i1FhWFbDskti",
        "colab_type": "code",
        "outputId": "61586ab6-1058-422b-9521-9bc04686649f",
        "colab": {
          "base_uri": "https://localhost:8080/",
          "height": 168
        }
      },
      "source": [
        "data.isnull().sum()"
      ],
      "execution_count": 10,
      "outputs": [
        {
          "output_type": "execute_result",
          "data": {
            "text/plain": [
              "id               0\n",
              "text             0\n",
              "average          0\n",
              "std              0\n",
              "cleaned_tweet    0\n",
              "scores           0\n",
              "label            0\n",
              "class            0\n",
              "dtype: int64"
            ]
          },
          "metadata": {
            "tags": []
          },
          "execution_count": 10
        }
      ]
    },
    {
      "cell_type": "markdown",
      "metadata": {
        "id": "YHhtIwWPFjYo",
        "colab_type": "text"
      },
      "source": [
        "##Check for blanks"
      ]
    },
    {
      "cell_type": "code",
      "metadata": {
        "id": "oENIiLVEsq_p",
        "colab_type": "code",
        "colab": {}
      },
      "source": [
        "blanks=[]\n",
        "for i,j,text,avg,std in data.itertuples():\n",
        "  if type(text)==str:\n",
        "    if text.isspace():\n",
        "      blanks.append(i)\n",
        "print(len(blanks))"
      ],
      "execution_count": 0,
      "outputs": []
    },
    {
      "cell_type": "code",
      "metadata": {
        "id": "sK4IHVyz19r6",
        "colab_type": "code",
        "outputId": "b9e0b2cf-d92f-4424-98d0-43588b454682",
        "colab": {
          "base_uri": "https://localhost:8080/",
          "height": 67
        }
      },
      "source": [
        "data['class'].value_counts()"
      ],
      "execution_count": 11,
      "outputs": [
        {
          "output_type": "execute_result",
          "data": {
            "text/plain": [
              "off    161621\n",
              "not     27106\n",
              "Name: class, dtype: int64"
            ]
          },
          "metadata": {
            "tags": []
          },
          "execution_count": 11
        }
      ]
    },
    {
      "cell_type": "markdown",
      "metadata": {
        "id": "_pELCpjQFroE",
        "colab_type": "text"
      },
      "source": [
        "#Training and test split "
      ]
    },
    {
      "cell_type": "code",
      "metadata": {
        "id": "deeyS4Ei24Qb",
        "colab_type": "code",
        "colab": {}
      },
      "source": [
        "from sklearn.model_selection import train_test_split\n",
        "X=data['cleaned_tweet']\n",
        "y=data['class']\n",
        "X_train,X_test,y_train,y_test=train_test_split(X,y,test_size=0.20)"
      ],
      "execution_count": 0,
      "outputs": []
    },
    {
      "cell_type": "markdown",
      "metadata": {
        "id": "VdlNt5l8FvzH",
        "colab_type": "text"
      },
      "source": [
        "##Building a Naive bayes and Linear SVM model "
      ]
    },
    {
      "cell_type": "code",
      "metadata": {
        "id": "FUeeBIMZ8W8B",
        "colab_type": "code",
        "colab": {}
      },
      "source": [
        "from sklearn.pipeline import Pipeline\n",
        "from sklearn.feature_extraction.text import TfidfVectorizer\n",
        "from sklearn.naive_bayes import MultinomialNB\n",
        "from sklearn.svm import LinearSVC\n",
        "\n",
        "#text_cls_nb=Pipeline([('tfidf',TfidfVectorizer(stop_words='english')),('clf',MultinomialNB()),])\n",
        "text_cls_svm=Pipeline([('tfidf',TfidfVectorizer(stop_words='english')),('clf',LinearSVC()),])"
      ],
      "execution_count": 0,
      "outputs": []
    },
    {
      "cell_type": "markdown",
      "metadata": {
        "id": "D4bqRFzpF6rM",
        "colab_type": "text"
      },
      "source": [
        "##Fit the model with the train data"
      ]
    },
    {
      "cell_type": "code",
      "metadata": {
        "id": "H3u6yXay9YzK",
        "colab_type": "code",
        "outputId": "7ca961d2-2c8c-456e-bb31-63cf7a422d00",
        "colab": {
          "base_uri": "https://localhost:8080/",
          "height": 370
        }
      },
      "source": [
        "#text_cls_nb.fit(X_train,y_train)\n",
        "text_cls_svm.fit(X_train,y_train)"
      ],
      "execution_count": 14,
      "outputs": [
        {
          "output_type": "execute_result",
          "data": {
            "text/plain": [
              "Pipeline(memory=None,\n",
              "         steps=[('tfidf',\n",
              "                 TfidfVectorizer(analyzer='word', binary=False,\n",
              "                                 decode_error='strict',\n",
              "                                 dtype=<class 'numpy.float64'>,\n",
              "                                 encoding='utf-8', input='content',\n",
              "                                 lowercase=True, max_df=1.0, max_features=None,\n",
              "                                 min_df=1, ngram_range=(1, 1), norm='l2',\n",
              "                                 preprocessor=None, smooth_idf=True,\n",
              "                                 stop_words='english', strip_accents=None,\n",
              "                                 sublinear_tf=False,\n",
              "                                 token_pattern='(?u)\\\\b\\\\w\\\\w+\\\\b',\n",
              "                                 tokenizer=None, use_idf=True,\n",
              "                                 vocabulary=None)),\n",
              "                ('clf',\n",
              "                 LinearSVC(C=1.0, class_weight=None, dual=True,\n",
              "                           fit_intercept=True, intercept_scaling=1,\n",
              "                           loss='squared_hinge', max_iter=1000,\n",
              "                           multi_class='ovr', penalty='l2', random_state=None,\n",
              "                           tol=0.0001, verbose=0))],\n",
              "         verbose=False)"
            ]
          },
          "metadata": {
            "tags": []
          },
          "execution_count": 14
        }
      ]
    },
    {
      "cell_type": "markdown",
      "metadata": {
        "id": "13bWGXmAF_9b",
        "colab_type": "text"
      },
      "source": [
        "##Prediction, Confusion Matrix and Classification Report"
      ]
    },
    {
      "cell_type": "code",
      "metadata": {
        "id": "mOMdDBId9gsk",
        "colab_type": "code",
        "colab": {}
      },
      "source": [
        "#prediction=text_cls_nb.predict(X_test)\n",
        "prediction=text_cls_svm.predict(X_test)"
      ],
      "execution_count": 0,
      "outputs": []
    },
    {
      "cell_type": "code",
      "metadata": {
        "id": "ohwrVVWt9oRV",
        "colab_type": "code",
        "outputId": "67ce7c0e-43e0-466c-a3a6-0818e83abeb5",
        "colab": {
          "base_uri": "https://localhost:8080/",
          "height": 50
        }
      },
      "source": [
        "from sklearn import metrics\n",
        "print(metrics.confusion_matrix(y_test,prediction))"
      ],
      "execution_count": 16,
      "outputs": [
        {
          "output_type": "stream",
          "text": [
            "[[ 2327  3009]\n",
            " [  885 31525]]\n"
          ],
          "name": "stdout"
        }
      ]
    },
    {
      "cell_type": "code",
      "metadata": {
        "id": "XHkZSjHq92Zk",
        "colab_type": "code",
        "outputId": "38e5150a-d496-4234-fb02-b133b9542e62",
        "colab": {
          "base_uri": "https://localhost:8080/",
          "height": 168
        }
      },
      "source": [
        "print(metrics.classification_report(y_test,prediction))"
      ],
      "execution_count": 17,
      "outputs": [
        {
          "output_type": "stream",
          "text": [
            "              precision    recall  f1-score   support\n",
            "\n",
            "         not       0.72      0.44      0.54      5336\n",
            "         off       0.91      0.97      0.94     32410\n",
            "\n",
            "    accuracy                           0.90     37746\n",
            "   macro avg       0.82      0.70      0.74     37746\n",
            "weighted avg       0.89      0.90      0.89     37746\n",
            "\n"
          ],
          "name": "stdout"
        }
      ]
    },
    {
      "cell_type": "code",
      "metadata": {
        "id": "FqOvTYCe989C",
        "colab_type": "code",
        "outputId": "e6d5b676-fc06-44f1-b470-8adf682293ba",
        "colab": {
          "base_uri": "https://localhost:8080/",
          "height": 34
        }
      },
      "source": [
        "print(metrics.accuracy_score(y_test,prediction))"
      ],
      "execution_count": 18,
      "outputs": [
        {
          "output_type": "stream",
          "text": [
            "0.8968367509140042\n"
          ],
          "name": "stdout"
        }
      ]
    },
    {
      "cell_type": "code",
      "metadata": {
        "id": "U2KPcQEv-HIP",
        "colab_type": "code",
        "outputId": "44e0ad3c-96b2-462d-cde3-8a4e7d36a6bc",
        "colab": {
          "base_uri": "https://localhost:8080/",
          "height": 34
        }
      },
      "source": [
        "print(text_cls_svm.predict(['I love him , he is so awesome']))"
      ],
      "execution_count": 19,
      "outputs": [
        {
          "output_type": "stream",
          "text": [
            "['not']\n"
          ],
          "name": "stdout"
        }
      ]
    },
    {
      "cell_type": "code",
      "metadata": {
        "id": "4x1guF9280tW",
        "colab_type": "code",
        "outputId": "01c8f51f-0cba-47d0-9e0d-27856e3b7c71",
        "colab": {
          "base_uri": "https://localhost:8080/",
          "height": 34
        }
      },
      "source": [
        "print(text_cls_svm.predict(['What the fuck?']))"
      ],
      "execution_count": 20,
      "outputs": [
        {
          "output_type": "stream",
          "text": [
            "['off']\n"
          ],
          "name": "stdout"
        }
      ]
    },
    {
      "cell_type": "code",
      "metadata": {
        "id": "ng9q2rq09zW1",
        "colab_type": "code",
        "colab": {}
      },
      "source": [
        ""
      ],
      "execution_count": 0,
      "outputs": []
    }
  ]
}